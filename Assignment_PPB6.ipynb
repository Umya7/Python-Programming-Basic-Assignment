{
 "cells": [
  {
   "cell_type": "markdown",
   "id": "52fafed1",
   "metadata": {},
   "source": [
    "## Assignment 6"
   ]
  },
  {
   "cell_type": "markdown",
   "id": "4f6f4355",
   "metadata": {},
   "source": [
    "**Q.1.** Write a Python Program to Display Fibonacci Sequence Using Recursion?"
   ]
  },
  {
   "cell_type": "markdown",
   "id": "493e8f11",
   "metadata": {},
   "source": [
    "**Answer :-**"
   ]
  },
  {
   "cell_type": "code",
   "execution_count": 1,
   "id": "109c1c98",
   "metadata": {},
   "outputs": [
    {
     "name": "stdout",
     "output_type": "stream",
     "text": [
      "Enter how many terms you want to print of Fibonacci Sequence : 5\n",
      "\n",
      "Fibonacci Sequence : \n",
      "0\n",
      "1\n",
      "1\n",
      "2\n",
      "3\n"
     ]
    }
   ],
   "source": [
    "def Fib_Recursion(num):\n",
    "    \n",
    "    \"\"\"This function will calculate fibonacci sequence using recursion\"\"\"\n",
    "    if num == 0:\n",
    "        return 0\n",
    "    elif num == 1:\n",
    "        return 1\n",
    "    else:\n",
    "        return (Fib_Recursion(num-1) + Fib_Recursion(num-2))\n",
    "\n",
    "n_terms = int(input(\"Enter how many terms you want to print of Fibonacci Sequence : \"))\n",
    "if n_terms <= 0:\n",
    "    print(\"\\nPlease enter a Positive Integer\")\n",
    "else:\n",
    "    print(\"\\nFibonacci Sequence : \")\n",
    "    for i in range(n_terms):\n",
    "        print(Fib_Recursion(i))"
   ]
  },
  {
   "cell_type": "markdown",
   "id": "afaf40c1",
   "metadata": {},
   "source": [
    "**Q.2.** Write a Python Program to Find Factorial of Number Using Recursion?"
   ]
  },
  {
   "cell_type": "markdown",
   "id": "e605a0d9",
   "metadata": {},
   "source": [
    "**Answer :-**"
   ]
  },
  {
   "cell_type": "code",
   "execution_count": 2,
   "id": "016990ef",
   "metadata": {},
   "outputs": [
    {
     "name": "stdout",
     "output_type": "stream",
     "text": [
      "Enter the number to calculate factorial : 3\n",
      "\n",
      "Factorial of 3 is 6\n"
     ]
    }
   ],
   "source": [
    "def Fact_Recursion(number):\n",
    "    \n",
    "    \"\"\"This function will calculate the factorial of a given number using recursion.\"\"\"\n",
    "    if number == 0:\n",
    "        return 1\n",
    "    elif number == 1:\n",
    "        return 1\n",
    "    else:\n",
    "        return (number * Fact_Recursion(number-1))\n",
    "\n",
    "number = int(input(\"Enter the number to calculate factorial : \"))\n",
    "if number < 0:\n",
    "    print(\"\\nPlease enter a positive integer.\")\n",
    "else:\n",
    "    print(f\"\\nFactorial of {number} is {Fact_Recursion(number)}\")"
   ]
  },
  {
   "cell_type": "markdown",
   "id": "e31d724e",
   "metadata": {},
   "source": [
    "**Q.3.** Write a Python Program to calculate your Body Mass Index?"
   ]
  },
  {
   "cell_type": "markdown",
   "id": "acda1aba",
   "metadata": {},
   "source": [
    "**Answer :-**"
   ]
  },
  {
   "cell_type": "code",
   "execution_count": 3,
   "id": "20376cd5",
   "metadata": {},
   "outputs": [
    {
     "name": "stdout",
     "output_type": "stream",
     "text": [
      "Enter your weight in kg: 64\n",
      "Enter your height in cm: 171\n",
      "\n",
      "The BMI is 21.887076365377382. You are healthy.\n"
     ]
    }
   ],
   "source": [
    "import sys\n",
    "\n",
    "def BMI_Calculator(weight, height):\n",
    "    \n",
    "    \"\"\"This function will return the body mass index.\"\"\"   \n",
    "    if weight == 0 or height == 0:\n",
    "        return 0\n",
    "    else:\n",
    "        BMI = weight / (height/100) ** 2\n",
    "        return BMI\n",
    "\n",
    "weight = float(input(\"Enter your weight in kg: \"))\n",
    "height = float(input(\"Enter your height in cm: \"))\n",
    "    \n",
    "BMI = BMI_Calculator(weight, height)\n",
    "\n",
    "if BMI == 0:\n",
    "    print(f\"\\nWeight or Height can't be 0.\")\n",
    "elif BMI <= 18.4:\n",
    "    print(f\"\\nThe BMI is {BMI}. You are underweight.\")\n",
    "elif BMI <= 24.9:\n",
    "    print(f\"\\nThe BMI is {BMI}. You are healthy.\")\n",
    "elif BMI <= 29.9:\n",
    "    print(f\"\\nThe BMI is {BMI}. You are overweight.\")\n",
    "else:\n",
    "    print(f\"\\nThe BMI is {BMI}. You are suffering from obesity.\")"
   ]
  },
  {
   "cell_type": "markdown",
   "id": "8fd75962",
   "metadata": {},
   "source": [
    "**Q.4.** Write a Python Program to calculate the natural logarithm of any number?"
   ]
  },
  {
   "cell_type": "markdown",
   "id": "b84ade58",
   "metadata": {},
   "source": [
    "**Answer :-**"
   ]
  },
  {
   "cell_type": "code",
   "execution_count": 4,
   "id": "c92c068c",
   "metadata": {},
   "outputs": [
    {
     "name": "stdout",
     "output_type": "stream",
     "text": [
      "Enter the number : 6\n",
      "\n",
      "log(6.0) : 1.791759469228055\n"
     ]
    }
   ],
   "source": [
    "import math\n",
    "\n",
    "def Natural_log(number):\n",
    "    \n",
    "    \"\"\"This function will return the natural logarithm of a number\"\"\"\n",
    "    return math.log(number)\n",
    "\n",
    "number = float(input(\"Enter the number : \"))\n",
    "if number <= 0:\n",
    "    print(\"\\nPlease enter a positive integer.\")\n",
    "else:\n",
    "    print(f\"\\nlog({number}) : {Natural_log(number)}\")"
   ]
  },
  {
   "cell_type": "markdown",
   "id": "aaa5b1cd",
   "metadata": {},
   "source": [
    "**Q.5.** Write a Python Program for cube sum of first n natural numbers?"
   ]
  },
  {
   "cell_type": "markdown",
   "id": "84c43a71",
   "metadata": {},
   "source": [
    "**Answer :-**"
   ]
  },
  {
   "cell_type": "code",
   "execution_count": 5,
   "id": "7d625e83",
   "metadata": {},
   "outputs": [
    {
     "name": "stdout",
     "output_type": "stream",
     "text": [
      "Enter the number to calculate sum of cubes of first natural numbers : 3\n",
      "\n",
      "Sum of cubes of first 3 natural numbers : 36\n"
     ]
    }
   ],
   "source": [
    "def Sum_of_Cubes(number):\n",
    "    \n",
    "    \"\"\"This function will return sum of cubes of first n natural numbers\"\"\"\n",
    "    result = (number*(number+1)/2) ** 2\n",
    "    return int(result)\n",
    "\n",
    "number = int(input(\"Enter the number to calculate sum of cubes of first natural numbers : \"))\n",
    "if number<=0:\n",
    "    print(\"\\nPlease enter a positive integer.\")\n",
    "else:\n",
    "    print(f\"\\nSum of cubes of first {number} natural numbers : {Sum_of_Cubes(number)}\")"
   ]
  }
 ],
 "metadata": {
  "kernelspec": {
   "display_name": "Python 3",
   "language": "python",
   "name": "python3"
  },
  "language_info": {
   "codemirror_mode": {
    "name": "ipython",
    "version": 3
   },
   "file_extension": ".py",
   "mimetype": "text/x-python",
   "name": "python",
   "nbconvert_exporter": "python",
   "pygments_lexer": "ipython3",
   "version": "3.8.8"
  }
 },
 "nbformat": 4,
 "nbformat_minor": 5
}
