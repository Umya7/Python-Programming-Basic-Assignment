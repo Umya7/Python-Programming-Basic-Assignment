{
 "cells": [
  {
   "cell_type": "markdown",
   "id": "dc84470f",
   "metadata": {},
   "source": [
    "## Assignment 22"
   ]
  },
  {
   "cell_type": "markdown",
   "id": "29c1a6a5",
   "metadata": {},
   "source": [
    "**Q.1.** Create a function that takes three parameters where:\n",
    "    \n",
    "* x is the start of the range (inclusive).\n",
    "* y is the end of the range (inclusive).\n",
    "* n is the divisor to be checked against.\n",
    "\n",
    "Return an ordered list with numbers in the range that are divisible by the third parameter n.\n",
    "Return an empty list if there are no numbers that are divisible by n.\n",
    "\n",
    "**Examples**\n",
    "\n",
    "list_operation(1, 10, 3) ➞ [3, 6, 9]\\\n",
    "list_operation(7, 9, 2) ➞ [8]\\\n",
    "list_operation(15, 20, 7) ➞ []"
   ]
  },
  {
   "cell_type": "markdown",
   "id": "8a6f33bc",
   "metadata": {},
   "source": [
    "**Answer :-**"
   ]
  },
  {
   "cell_type": "code",
   "execution_count": 1,
   "id": "8042d19e",
   "metadata": {},
   "outputs": [],
   "source": [
    "def list_operation(x, y, n):\n",
    "    \n",
    "    divisor = []\n",
    "    nonDiv = []\n",
    "    for i in range(x, y+1):\n",
    "        if i % n == 0:\n",
    "            divisor.append(i)\n",
    "    return divisor"
   ]
  },
  {
   "cell_type": "code",
   "execution_count": 2,
   "id": "acbc3d19",
   "metadata": {},
   "outputs": [
    {
     "data": {
      "text/plain": [
       "[8]"
      ]
     },
     "execution_count": 2,
     "metadata": {},
     "output_type": "execute_result"
    }
   ],
   "source": [
    "list_operation(7, 9, 2)"
   ]
  },
  {
   "cell_type": "markdown",
   "id": "9481ed8c",
   "metadata": {},
   "source": [
    "**Q.2.** Create a function that takes in two lists and returns True if the second list follows the first list\n",
    "by one element, and False otherwise. In other words, determine if the second list is the first\n",
    "list shifted to the right by 1.\n",
    "\n",
    "**Examples**\n",
    "\n",
    "simon_says([1, 2], [5, 1]) ➞ True\\\n",
    "simon_says([1, 2], [5, 5]) ➞ False\\\n",
    "simon_says([1, 2, 3, 4, 5], [0, 1, 2, 3, 4]) ➞ True\\\n",
    "simon_says([1, 2, 3, 4, 5], [5, 5, 1, 2, 3]) ➞ False\n",
    "\n",
    "**Notes**\n",
    "\n",
    "* Both input lists will be of the same length, and will have a minimum length of 2.\n",
    "* The values of the 0-indexed element in the second list and the n-1th indexed element\n",
    "in the first list do not matter."
   ]
  },
  {
   "cell_type": "markdown",
   "id": "0b71968f",
   "metadata": {},
   "source": [
    "**Answer :-**"
   ]
  },
  {
   "cell_type": "code",
   "execution_count": 3,
   "id": "5d7a4954",
   "metadata": {},
   "outputs": [],
   "source": [
    "def simon_says(ls1, ls2):\n",
    "    \n",
    "    if ls1[0:len(ls1)-1] == ls2[1:len(ls2)]:\n",
    "        \n",
    "        return True\n",
    "    \n",
    "    return False"
   ]
  },
  {
   "cell_type": "code",
   "execution_count": 4,
   "id": "0ba93446",
   "metadata": {},
   "outputs": [
    {
     "data": {
      "text/plain": [
       "True"
      ]
     },
     "execution_count": 4,
     "metadata": {},
     "output_type": "execute_result"
    }
   ],
   "source": [
    "simon_says([1, 2, 3, 4, 5], [0, 1, 2, 3, 4])"
   ]
  },
  {
   "cell_type": "markdown",
   "id": "4c2b086a",
   "metadata": {},
   "source": [
    "**Q.3.** A group of friends have decided to start a secret society. The name will be the first letter of\n",
    "each of their names, sorted in alphabetical order.\n",
    "\n",
    "Create a function that takes in a list of names and returns the name of the secret society.\n",
    "\n",
    "**Examples**\n",
    "\n",
    "society_name([\"Adam\", \"Sarah\", \"Malcolm\"]) ➞ \"AMS\"\\\n",
    "society_name([\"Harry\", \"Newt\", \"Luna\", \"Cho\"]) ➞ \"CHLN\"\\\n",
    "society_name([\"Phoebe\", \"Chandler\", \"Rachel\", \"Ross\", \"Monica\", \"Joey\"]) ➞ \"CJMPRR\""
   ]
  },
  {
   "cell_type": "markdown",
   "id": "4b7a47ad",
   "metadata": {},
   "source": [
    "**Answer :-**"
   ]
  },
  {
   "cell_type": "code",
   "execution_count": 5,
   "id": "41d062f9",
   "metadata": {},
   "outputs": [],
   "source": [
    "def society_name(lst):\n",
    "    \n",
    "    S_Name = ''.join([i[0] for i in sorted(lst)])\n",
    "    \n",
    "    return S_Name"
   ]
  },
  {
   "cell_type": "code",
   "execution_count": 6,
   "id": "56466df7",
   "metadata": {},
   "outputs": [
    {
     "data": {
      "text/plain": [
       "'CHLN'"
      ]
     },
     "execution_count": 6,
     "metadata": {},
     "output_type": "execute_result"
    }
   ],
   "source": [
    "society_name(['Harry', 'Newt', 'Luna', 'Cho'])"
   ]
  },
  {
   "cell_type": "markdown",
   "id": "12eb8a7f",
   "metadata": {},
   "source": [
    "**Q.4.** An isogram is a word that has no duplicate letters. Create a function that takes a string and\n",
    "returns either True or False depending on whether or not it's an \"isogram\".\n",
    "\n",
    "**Examples**\n",
    "\n",
    "is_isogram(\"Algorism\") ➞ True\n",
    "\n",
    "is_isogram(\"PasSword\") ➞ False\\\n",
    "#Not case sensitive.\n",
    "\n",
    "is_isogram(\"Consecutive\") ➞ False\n",
    "\n",
    "**Notes**\n",
    "\n",
    "* Ignore letter case (should not be case sensitive).\n",
    "* All test cases contain valid one word strings."
   ]
  },
  {
   "cell_type": "markdown",
   "id": "4f06509e",
   "metadata": {},
   "source": [
    "**Answer :-**"
   ]
  },
  {
   "cell_type": "code",
   "execution_count": 7,
   "id": "e6cdce58",
   "metadata": {},
   "outputs": [],
   "source": [
    "def is_isogram(s):\n",
    "    \n",
    "    for i in range(len(s)):\n",
    "        if s.lower().count(s[i]) > 1:\n",
    "            return False\n",
    "    else:\n",
    "        return True"
   ]
  },
  {
   "cell_type": "code",
   "execution_count": 8,
   "id": "ef969ea6",
   "metadata": {},
   "outputs": [
    {
     "data": {
      "text/plain": [
       "True"
      ]
     },
     "execution_count": 8,
     "metadata": {},
     "output_type": "execute_result"
    }
   ],
   "source": [
    "is_isogram('Algorism')"
   ]
  },
  {
   "cell_type": "markdown",
   "id": "027ac2c8",
   "metadata": {},
   "source": [
    "**Q.5.** Create a function that takes a string and returns True or False, depending on whether the\n",
    "characters are in order or not.\n",
    "\n",
    "**Examples**\n",
    "\n",
    "is_in_order(\"abc\") ➞ True\\\n",
    "is_in_order(\"edabit\") ➞ False\\\n",
    "is_in_order(\"123\") ➞ True\\\n",
    "is_in_order(\"xyzz\") ➞ True\n",
    "\n",
    "**Notes**\n",
    "\n",
    "You don't have to handle empty strings."
   ]
  },
  {
   "cell_type": "markdown",
   "id": "317f32d2",
   "metadata": {},
   "source": [
    "**Answer :-**"
   ]
  },
  {
   "cell_type": "code",
   "execution_count": 9,
   "id": "d0ad3fce",
   "metadata": {},
   "outputs": [],
   "source": [
    "def is_in_order(s):\n",
    "    \n",
    "    n = len(s)\n",
    "    c = [s[i] for i in range(len(s))]\n",
    "    c.sort()\n",
    "    \n",
    "    for i in range(n):\n",
    "        if c[i] != s[i]:\n",
    "            \n",
    "            return False\n",
    "        \n",
    "    return True"
   ]
  },
  {
   "cell_type": "code",
   "execution_count": 10,
   "id": "ef945e6e",
   "metadata": {},
   "outputs": [
    {
     "data": {
      "text/plain": [
       "False"
      ]
     },
     "execution_count": 10,
     "metadata": {},
     "output_type": "execute_result"
    }
   ],
   "source": [
    "is_in_order('edabit') "
   ]
  }
 ],
 "metadata": {
  "kernelspec": {
   "display_name": "Python 3",
   "language": "python",
   "name": "python3"
  },
  "language_info": {
   "codemirror_mode": {
    "name": "ipython",
    "version": 3
   },
   "file_extension": ".py",
   "mimetype": "text/x-python",
   "name": "python",
   "nbconvert_exporter": "python",
   "pygments_lexer": "ipython3",
   "version": "3.8.8"
  }
 },
 "nbformat": 4,
 "nbformat_minor": 5
}
