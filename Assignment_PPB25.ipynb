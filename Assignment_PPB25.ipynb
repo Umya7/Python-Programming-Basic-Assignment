{
 "cells": [
  {
   "cell_type": "markdown",
   "id": "17d0160b",
   "metadata": {},
   "source": [
    "## Assignment 25"
   ]
  },
  {
   "cell_type": "markdown",
   "id": "abdd0d44",
   "metadata": {},
   "source": [
    "**Q.1.** Create a function that takes three integer arguments (a, b, c) and returns the amount of\n",
    "integers which are of equal value.\n",
    "\n",
    "**Examples**\n",
    "\n",
    "equal(3, 4, 3) ➞ 2\\\n",
    "equal(1, 1, 1) ➞ 3\\\n",
    "equal(3, 4, 1) ➞ 0\n",
    "\n",
    "**Notes**\n",
    "\n",
    "Your function must return 0, 2 or 3."
   ]
  },
  {
   "cell_type": "markdown",
   "id": "605cdec5",
   "metadata": {},
   "source": [
    "**Answer :-**"
   ]
  },
  {
   "cell_type": "code",
   "execution_count": 1,
   "id": "f56c7d5a",
   "metadata": {},
   "outputs": [],
   "source": [
    "def equal(a,b,c):\n",
    "    num = 0\n",
    "    if a == b and a == c :\n",
    "        num = 3\n",
    "    elif a == b or a == c :\n",
    "        num = 2\n",
    "    else:\n",
    "        num = 0\n",
    "    return num"
   ]
  },
  {
   "cell_type": "code",
   "execution_count": 2,
   "id": "93e912c7",
   "metadata": {},
   "outputs": [
    {
     "data": {
      "text/plain": [
       "2"
      ]
     },
     "execution_count": 2,
     "metadata": {},
     "output_type": "execute_result"
    }
   ],
   "source": [
    "equal(3, 4, 3)"
   ]
  },
  {
   "cell_type": "markdown",
   "id": "e96aa135",
   "metadata": {},
   "source": [
    "**Q.2.** Write a function that converts a dictionary into a list of keys-values tuples.\n",
    "\n",
    "**Examples**\n",
    "\n",
    "dict_to_list({\\\n",
    "\"D\": 1,\\\n",
    "\"B\": 2,\\\n",
    "\"C\": 3\\\n",
    "}) ➞ [(\"B\", 2), (\"C\", 3), (\"D\", 1)]\n",
    "\n",
    "dict_to_list({\\\n",
    "\"likes\": 2,\\\n",
    "\"dislikes\": 3,\\\n",
    "\"followers\": 10\\\n",
    "}) ➞ [(\"dislikes\", 3), (\"followers\", 10), (\"likes\", 2)]\n",
    "\n",
    "**Notes**\n",
    "\n",
    "Return the elements in the list in alphabetical order."
   ]
  },
  {
   "cell_type": "markdown",
   "id": "d77a03d7",
   "metadata": {},
   "source": [
    "**Answer :-**"
   ]
  },
  {
   "cell_type": "code",
   "execution_count": 3,
   "id": "1931d05f",
   "metadata": {},
   "outputs": [],
   "source": [
    "def dict_to_list(d):\n",
    "    \n",
    "    return list(d.items())"
   ]
  },
  {
   "cell_type": "code",
   "execution_count": 4,
   "id": "5f90aafe",
   "metadata": {},
   "outputs": [
    {
     "data": {
      "text/plain": [
       "[('likes', 2), ('dislikes', 3), ('followers', 10)]"
      ]
     },
     "execution_count": 4,
     "metadata": {},
     "output_type": "execute_result"
    }
   ],
   "source": [
    "dict_to_list({\n",
    "    'likes': 2,\n",
    "    'dislikes': 3,\n",
    "    'followers': 10\n",
    "    })"
   ]
  },
  {
   "cell_type": "markdown",
   "id": "64398f9c",
   "metadata": {},
   "source": [
    "**Q.3.** Write a function that creates a dictionary with each (key, value) pair being the (lower case,\n",
    "upper case) versions of a letter, respectively.\n",
    "\n",
    "**Examples**\n",
    "\n",
    "mapping([\"p\", \"s\"]) ➞ { \"p\": \"P\", \"s\": \"S\" }\\\n",
    "mapping([\"a\", \"b\", \"c\"]) ➞ { \"a\": \"A\", \"b\": \"B\", \"c\": \"C\" }\\\n",
    "mapping([\"a\", \"v\", \"y\", \"z\"]) ➞ { \"a\": \"A\", \"v\": \"V\", \"y\": \"Y\", \"z\": \"Z\" }\n",
    "\n",
    "**Notes**\n",
    "\n",
    "All of the letters in the input list will always be lowercase."
   ]
  },
  {
   "cell_type": "markdown",
   "id": "90e421cf",
   "metadata": {},
   "source": [
    "**Answer :-**"
   ]
  },
  {
   "cell_type": "code",
   "execution_count": 5,
   "id": "748bad86",
   "metadata": {},
   "outputs": [],
   "source": [
    "def mapping(lst):\n",
    "    \n",
    "    map = {v.lower():v.upper() for v in lst}\n",
    "    \n",
    "    return map"
   ]
  },
  {
   "cell_type": "code",
   "execution_count": 6,
   "id": "77575965",
   "metadata": {},
   "outputs": [
    {
     "data": {
      "text/plain": [
       "{'a': 'A', 'b': 'B', 'c': 'C'}"
      ]
     },
     "execution_count": 6,
     "metadata": {},
     "output_type": "execute_result"
    }
   ],
   "source": [
    "mapping(['a', 'b', 'c'])"
   ]
  },
  {
   "cell_type": "markdown",
   "id": "e42d12b2",
   "metadata": {},
   "source": [
    "**Q.4.** Write a function, that replaces all vowels in a string with a specified vowel.\n",
    "\n",
    "**Examples**\n",
    "\n",
    "vow_replace(\"apples and bananas\", \"u\") ➞ \"upplus und bununus\"\\\n",
    "vow_replace(\"cheese casserole\", \"o\") ➞ \"chooso cossorolo\"\\\n",
    "vow_replace(\"stuffed jalapeno poppers\", \"e\") ➞ \"steffed jelepene peppers\"\n",
    "\n",
    "**Notes**\n",
    "\n",
    "All words will be lowercase. Y is not considered a vowel."
   ]
  },
  {
   "cell_type": "markdown",
   "id": "6cd45df9",
   "metadata": {},
   "source": [
    "**Answer :-**"
   ]
  },
  {
   "cell_type": "code",
   "execution_count": 7,
   "id": "450a1ca8",
   "metadata": {},
   "outputs": [],
   "source": [
    "def vow_replace(s,ch):\n",
    "    vowel ='AEIOUaeiuo'\n",
    "    s1 = []\n",
    "    for i in range(len(s)):\n",
    "        if s[i] in vowel:\n",
    "            s1.append(ch)\n",
    "        else:\n",
    "            s1.append(s[i])\n",
    "\n",
    "    return ''.join((s1))"
   ]
  },
  {
   "cell_type": "code",
   "execution_count": 8,
   "id": "8913d4b0",
   "metadata": {},
   "outputs": [
    {
     "data": {
      "text/plain": [
       "'chooso cossorolo'"
      ]
     },
     "execution_count": 8,
     "metadata": {},
     "output_type": "execute_result"
    }
   ],
   "source": [
    "vow_replace('cheese casserole', 'o')"
   ]
  },
  {
   "cell_type": "markdown",
   "id": "666ba0aa",
   "metadata": {},
   "source": [
    "**Q.5.** Create a function that takes a string as input and capitalizes a letter if its ASCII code is even\n",
    "and returns its lower case version if its ASCII code is odd.\n",
    "\n",
    "**Examples**\n",
    "\n",
    "ascii_capitalize(\"to be or not to be\") ➞ \"To Be oR NoT To Be\"\\\n",
    "ascii_capitalize(\"THE LITTLE MERMAID\") ➞ \"THe LiTTLe meRmaiD\"\\\n",
    "ascii_capitalize(\"Oh what a beautiful morning.\") ➞ \"oH wHaT a BeauTiFuL moRNiNg.\""
   ]
  },
  {
   "cell_type": "markdown",
   "id": "1d2a71eb",
   "metadata": {},
   "source": [
    "**Answer :-**"
   ]
  },
  {
   "cell_type": "code",
   "execution_count": 9,
   "id": "0dc27751",
   "metadata": {},
   "outputs": [],
   "source": [
    "def ascii_capitalize(s):\n",
    "    s1 = []\n",
    "    for i in range(len(s)):\n",
    "        if ord(s[i]) % 2 == 0:\n",
    "            s1.append(s[i].upper())\n",
    "        else:\n",
    "            s1.append(s[i].lower())\n",
    "\n",
    "    return \"\".join((s1))"
   ]
  },
  {
   "cell_type": "code",
   "execution_count": 10,
   "id": "1e65c954",
   "metadata": {},
   "outputs": [
    {
     "data": {
      "text/plain": [
       "'THe LiTTLe meRmaiD'"
      ]
     },
     "execution_count": 10,
     "metadata": {},
     "output_type": "execute_result"
    }
   ],
   "source": [
    "ascii_capitalize('THE LITTLE MERMAID')"
   ]
  }
 ],
 "metadata": {
  "kernelspec": {
   "display_name": "Python 3",
   "language": "python",
   "name": "python3"
  },
  "language_info": {
   "codemirror_mode": {
    "name": "ipython",
    "version": 3
   },
   "file_extension": ".py",
   "mimetype": "text/x-python",
   "name": "python",
   "nbconvert_exporter": "python",
   "pygments_lexer": "ipython3",
   "version": "3.8.8"
  }
 },
 "nbformat": 4,
 "nbformat_minor": 5
}
