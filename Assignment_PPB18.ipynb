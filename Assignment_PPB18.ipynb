{
 "cells": [
  {
   "cell_type": "markdown",
   "id": "5581accc",
   "metadata": {},
   "source": [
    "## Assignment 18"
   ]
  },
  {
   "cell_type": "markdown",
   "id": "d372b380",
   "metadata": {},
   "source": [
    "**Q.1** Create a function that takes a list of non-negative integers and strings and return a new list\n",
    "without the strings.\n",
    "\n",
    "**Examples**\n",
    "\n",
    "filter_list([1, 2, \"a\", \"b\"]) ➞ [1, 2]\\\n",
    "filter_list([1, \"a\", \"b\", 0, 15]) ➞ [1, 0, 15]\\\n",
    "filter_list([1, 2, \"aasf\", \"1\", \"123\", 123]) ➞ [1, 2, 123]"
   ]
  },
  {
   "cell_type": "markdown",
   "id": "f83770c9",
   "metadata": {},
   "source": [
    "**Answer :-**"
   ]
  },
  {
   "cell_type": "code",
   "execution_count": 1,
   "id": "66228b62",
   "metadata": {},
   "outputs": [
    {
     "name": "stdout",
     "output_type": "stream",
     "text": [
      "[1, 2, 123]\n"
     ]
    }
   ],
   "source": [
    "list1 = [1, 2, 'aasf', '1', '123', 123]\n",
    "\n",
    "def filter_list(list1):\n",
    "    new_list = []\n",
    "    for x in list1:\n",
    "        if type(x) == int:\n",
    "            new_list.append(x)\n",
    "    return new_list\n",
    "\n",
    "print(filter_list(list1))"
   ]
  },
  {
   "cell_type": "markdown",
   "id": "12743252",
   "metadata": {},
   "source": [
    "**Q.2.** The \"Reverser\" takes a string as input and returns that string in reverse order, with the\n",
    "opposite case.\n",
    "\n",
    "**Examples**\n",
    "\n",
    "reverse(\"Hello World\") ➞ \"DLROw OLLEh\"\\\n",
    "reverse(\"ReVeRsE\") ➞ \"eSrEvEr\"\\\n",
    "reverse(\"Radar\") ➞ \"RADAr\""
   ]
  },
  {
   "cell_type": "markdown",
   "id": "3e29abf1",
   "metadata": {},
   "source": [
    "**Answer :-**"
   ]
  },
  {
   "cell_type": "code",
   "execution_count": 2,
   "id": "ab3dfef1",
   "metadata": {},
   "outputs": [
    {
     "name": "stdout",
     "output_type": "stream",
     "text": [
      "Enter string value you need to Reverse : Hello World\n",
      "Reverse of Hello World is :  DLROw OLLEh\n"
     ]
    }
   ],
   "source": [
    "def Reverser(str):\n",
    "    str = str[::-1]\n",
    "    return str.swapcase()\n",
    "\n",
    "str1 = str(input(\"Enter string value you need to Reverse : \"))\n",
    "Reverser(str1)\n",
    "\n",
    "print(f\"Reverse of {str1} is : \", Reverser(str1))"
   ]
  },
  {
   "cell_type": "markdown",
   "id": "c2b4b4b5",
   "metadata": {},
   "source": [
    "**Q.3.** You can assign variables from lists like this:\n",
    "    \n",
    "lst = [1, 2, 3, 4, 5, 6]\\\n",
    "first = lst[0]\\\n",
    "middle = lst[1:-1]\\\n",
    "last = lst[-1]\n",
    "\n",
    "print(first) ➞ outputs 1\\\n",
    "print(middle) ➞ outputs [2, 3, 4, 5]\\\n",
    "print(last) ➞ outputs 6\n",
    "\n",
    "With Python 3, you can assign variables from lists in a much more succinct way. Create\n",
    "variables first, middle and last from the given list using destructuring assignment\n",
    "(check the Resources tab for some examples), where:\n",
    "    \n",
    "first ➞ 1\\\n",
    "middle ➞ [2, 3, 4, 5]\\\n",
    "last ➞ 6\n",
    "\n",
    "Your task is to unpack the list writeyourcodehere into three variables, being first,\n",
    "middle, and last, with middle being everything in between the first and last element. Then\n",
    "print all three variables."
   ]
  },
  {
   "cell_type": "markdown",
   "id": "c6a2a793",
   "metadata": {},
   "source": [
    "**Answer :-**"
   ]
  },
  {
   "cell_type": "code",
   "execution_count": 3,
   "id": "c43d17a3",
   "metadata": {},
   "outputs": [
    {
     "name": "stdout",
     "output_type": "stream",
     "text": [
      "From the [1, 2, 3, 4, 5, 6] first number is :  1\n",
      "From the [1, 2, 3, 4, 5, 6] middle number is :  [2, 3, 4, 5]\n",
      "From the [1, 2, 3, 4, 5, 6] last number is :  6\n"
     ]
    }
   ],
   "source": [
    "lst = [1, 2, 3, 4, 5, 6]\n",
    "\n",
    "first, *middle, last = lst\n",
    "\n",
    "print(f\"From the {lst} first number is : \", first)\n",
    "print(f\"From the {lst} middle number is : \", middle)\n",
    "print(f\"From the {lst} last number is : \", last)"
   ]
  },
  {
   "cell_type": "markdown",
   "id": "a237d7c8",
   "metadata": {},
   "source": [
    "**Q.4.** Write a function that calculates the factorial of a number recursively.\n",
    "\n",
    "**Examples**\n",
    "\n",
    "factorial(5) ➞ 120\\\n",
    "factorial(3) ➞ 6\\\n",
    "factorial(1) ➞ 1\\\n",
    "factorial(0) ➞ 1"
   ]
  },
  {
   "cell_type": "markdown",
   "id": "cd00548f",
   "metadata": {},
   "source": [
    "**Answer :-**"
   ]
  },
  {
   "cell_type": "code",
   "execution_count": 4,
   "id": "aa52bcd9",
   "metadata": {},
   "outputs": [
    {
     "name": "stdout",
     "output_type": "stream",
     "text": [
      "Enter a positive Number :3\n",
      "Factorial of 3 is :  6\n"
     ]
    }
   ],
   "source": [
    "def factorial(n):    \n",
    "    if n == 0:\n",
    "        return 1    \n",
    "    return n * factorial(n-1)\n",
    "\n",
    "num = int(input('Enter a positive Number :'))\n",
    "print(f\"Factorial of {num} is : \", factorial(num))"
   ]
  },
  {
   "cell_type": "markdown",
   "id": "cb688ffb",
   "metadata": {},
   "source": [
    "**Q.5.** Write a function that moves all elements of one type to the end of the list.\n",
    "\n",
    "**Examples**\n",
    "\n",
    "move_to_end([1, 3, 2, 4, 4, 1], 1) ➞ [3, 2, 4, 4, 1, 1]\\\n",
    "#Move all the 1s to the end of the array.\n",
    "\n",
    "move_to_end([7, 8, 9, 1, 2, 3, 4], 9) ➞ [7, 8, 1, 2, 3, 4, 9]\n",
    "\n",
    "move_to_end([\"a\", \"a\", \"a\", \"b\"], \"a\") ➞ [\"b\", \"a\", \"a\", \"a\"]"
   ]
  },
  {
   "cell_type": "markdown",
   "id": "c87a380b",
   "metadata": {},
   "source": [
    "**Answer :-**"
   ]
  },
  {
   "cell_type": "code",
   "execution_count": 5,
   "id": "0091b1d2",
   "metadata": {},
   "outputs": [],
   "source": [
    "def MoveToEnd(array, ToMove):\n",
    "     \n",
    "    i = 0\n",
    " \n",
    "    # Mark the right pointer\n",
    "    j = len(array) - 1\n",
    "  \n",
    "    # Iterate untill left pointer\n",
    "    # crosses the right pointer\n",
    "    while (i < j):\n",
    "  \n",
    "        while (i < j and array[j] == ToMove):\n",
    "  \n",
    "            # decrement right pointer\n",
    "            j-=1\n",
    "  \n",
    "        if (array[i] == ToMove):\n",
    "  \n",
    "            # swap the two elements\n",
    "            # in the array\n",
    "            array[i], array[j] = array[j] , array[i]\n",
    "  \n",
    "        # increment left pointer\n",
    "        i += 1\n",
    "  \n",
    "    # return the result\n",
    "    return array"
   ]
  },
  {
   "cell_type": "code",
   "execution_count": 6,
   "id": "a970f51e",
   "metadata": {},
   "outputs": [
    {
     "name": "stdout",
     "output_type": "stream",
     "text": [
      "7 8 4 1 2 3 9 "
     ]
    }
   ],
   "source": [
    "arr = [7, 8, 9, 1, 2, 3, 4]\n",
    "k = 9\n",
    "ans = MoveToEnd(arr, k)\n",
    "for i in range(len(arr)):\n",
    "    print(ans[i] ,end= \" \")"
   ]
  }
 ],
 "metadata": {
  "kernelspec": {
   "display_name": "Python 3",
   "language": "python",
   "name": "python3"
  },
  "language_info": {
   "codemirror_mode": {
    "name": "ipython",
    "version": 3
   },
   "file_extension": ".py",
   "mimetype": "text/x-python",
   "name": "python",
   "nbconvert_exporter": "python",
   "pygments_lexer": "ipython3",
   "version": "3.8.8"
  }
 },
 "nbformat": 4,
 "nbformat_minor": 5
}
