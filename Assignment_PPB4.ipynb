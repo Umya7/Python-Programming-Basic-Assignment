{
 "cells": [
  {
   "cell_type": "markdown",
   "id": "0f8bbbb3",
   "metadata": {},
   "source": [
    "## Assignment 4"
   ]
  },
  {
   "cell_type": "markdown",
   "id": "d27c946b",
   "metadata": {},
   "source": [
    "**Q.1.** Write a Python Program to Find the Factorial of a Number?"
   ]
  },
  {
   "cell_type": "markdown",
   "id": "8932eaa4",
   "metadata": {},
   "source": [
    "**Answer :-**"
   ]
  },
  {
   "cell_type": "code",
   "execution_count": 1,
   "id": "da598b28",
   "metadata": {},
   "outputs": [
    {
     "name": "stdout",
     "output_type": "stream",
     "text": [
      "Enter the Number : 7\n",
      "\n",
      "Factorial of 7 is 5040.\n"
     ]
    }
   ],
   "source": [
    "def Factorial():\n",
    "    '''\n",
    "    This function will calculate the factorial of a given number.\n",
    "    '''\n",
    "    Num = int(input(\"Enter the Number : \"))\n",
    "    if Num < 0:\n",
    "        print(\"\\n Factorial of negative number does not exists.\")\n",
    "    elif Num == 0 or Num == 1:\n",
    "        print(\"\\n Factorial of {} is 1.\".format(Num))\n",
    "    else:\n",
    "        result = 1\n",
    "        for i in range(2, Num + 1):\n",
    "            result *= i\n",
    "        print(\"\\nFactorial of {} is {}.\".format(Num, result))\n",
    "        \n",
    "Factorial()"
   ]
  },
  {
   "cell_type": "markdown",
   "id": "ce159f6f",
   "metadata": {},
   "source": [
    "**Q.2.** Write a Python Program to Display the multiplication Table?"
   ]
  },
  {
   "cell_type": "markdown",
   "id": "4ffdb426",
   "metadata": {},
   "source": [
    "**Answer :-**"
   ]
  },
  {
   "cell_type": "code",
   "execution_count": 2,
   "id": "71343ba7",
   "metadata": {},
   "outputs": [
    {
     "name": "stdout",
     "output_type": "stream",
     "text": [
      "Enter the Number : 7\n",
      "7 x 1 = 7\n",
      "7 x 2 = 14\n",
      "7 x 3 = 21\n",
      "7 x 4 = 28\n",
      "7 x 5 = 35\n",
      "7 x 6 = 42\n",
      "7 x 7 = 49\n",
      "7 x 8 = 56\n",
      "7 x 9 = 63\n",
      "7 x 10 = 70\n"
     ]
    }
   ],
   "source": [
    "def MultiplicationTable():\n",
    "    '''\n",
    "    This function will print the multiplication table of a given number.\n",
    "    '''\n",
    "    Num = int(input(\"Enter the Number : \"))\n",
    "    for i in range(1,11):\n",
    "        print(\"{} x {} = {}\".format(Num, i, Num*i))\n",
    "\n",
    "MultiplicationTable()"
   ]
  },
  {
   "cell_type": "markdown",
   "id": "ef5727d3",
   "metadata": {},
   "source": [
    "**Q.3.** Write a Python Program to Print the Fibonacci sequence?"
   ]
  },
  {
   "cell_type": "markdown",
   "id": "71b1a98b",
   "metadata": {},
   "source": [
    "**Answer :-**"
   ]
  },
  {
   "cell_type": "code",
   "execution_count": 3,
   "id": "3d6dcf64",
   "metadata": {},
   "outputs": [
    {
     "name": "stdout",
     "output_type": "stream",
     "text": [
      "How many number of terms to print of fibonacci sequence : 8\n",
      "0\n",
      "1\n",
      "1\n",
      "2\n",
      "3\n",
      "5\n",
      "8\n",
      "13\n"
     ]
    }
   ],
   "source": [
    "def FibonacciSeq():\n",
    "    '''\n",
    "    This function will print n terms of a fibonacci sequence.\n",
    "    '''\n",
    "    Nth_Terms = int(input(\"How many number of terms to print of fibonacci sequence : \"))\n",
    "    Num1 = 0\n",
    "    Num2 = 1\n",
    "    \n",
    "    if Nth_Terms < 0:\n",
    "        print(f\"Enter a positive integer, The given {Nth_Terms} is not valid.\")\n",
    "    else :    \n",
    "        for i in range(Nth_Terms):\n",
    "            print(Num1)\n",
    "            Num1, Num2 = Num2 , Num1 + Num2\n",
    "            \n",
    "FibonacciSeq()"
   ]
  },
  {
   "cell_type": "markdown",
   "id": "10a9e902",
   "metadata": {},
   "source": [
    "**Q.4.** Write a Python Program to Check Armstrong Number?"
   ]
  },
  {
   "cell_type": "markdown",
   "id": "5f842c62",
   "metadata": {},
   "source": [
    "**Answer :-**"
   ]
  },
  {
   "cell_type": "code",
   "execution_count": 4,
   "id": "e3c10e1b",
   "metadata": {},
   "outputs": [
    {
     "name": "stdout",
     "output_type": "stream",
     "text": [
      "Enter the number: 12\n",
      "\n",
      "12 is not an Armstrong Number.\n"
     ]
    }
   ],
   "source": [
    "def CheckArmstrong():\n",
    "    '''\n",
    "    This function will check whether given number is an armstrong number or not.\n",
    "    '''\n",
    "    Num = int(input(\"Enter the number: \"))\n",
    "        \n",
    "    temp = str(Num)\n",
    "    length = len(temp)\n",
    "    temp = int(temp)\n",
    "    result = 0\n",
    "        \n",
    "    while temp > 0:\n",
    "        remainder = temp%10\n",
    "        result += remainder**length\n",
    "        temp //= 10\n",
    "        \n",
    "    if Num == result:\n",
    "        print(\"\\n{} is an Armstrong Number.\".format(Num))\n",
    "    else:\n",
    "        print(\"\\n{} is not an Armstrong Number.\".format(Num))\n",
    "\n",
    "CheckArmstrong()"
   ]
  },
  {
   "cell_type": "markdown",
   "id": "9cde3747",
   "metadata": {},
   "source": [
    "**Q.5.** Write a Python Program to Find Armstrong Number in an Interval?"
   ]
  },
  {
   "cell_type": "markdown",
   "id": "75296203",
   "metadata": {},
   "source": [
    "**Answer :-**"
   ]
  },
  {
   "cell_type": "code",
   "execution_count": 7,
   "id": "a8ba9c10",
   "metadata": {},
   "outputs": [
    {
     "name": "stdout",
     "output_type": "stream",
     "text": [
      "Enter the Lower bound of interval(inclusive) : 0\n",
      "Enter the Upper bound of interval(excluded) : 200\n",
      "\n",
      "0 is an Armstrong Number.\n",
      "\n",
      "1 is an Armstrong Number.\n",
      "\n",
      "2 is an Armstrong Number.\n",
      "\n",
      "3 is an Armstrong Number.\n",
      "\n",
      "4 is an Armstrong Number.\n",
      "\n",
      "5 is an Armstrong Number.\n",
      "\n",
      "6 is an Armstrong Number.\n",
      "\n",
      "7 is an Armstrong Number.\n",
      "\n",
      "8 is an Armstrong Number.\n",
      "\n",
      "9 is an Armstrong Number.\n",
      "\n",
      "153 is an Armstrong Number.\n"
     ]
    }
   ],
   "source": [
    "def PrintArmstrong(Num1, Num2):\n",
    "    '''\n",
    "    This function will print all armstrong number in an interval.\n",
    "    '''\n",
    "    count = 0\n",
    "    temp = Num1\n",
    "    \n",
    "    while temp > 0 :\n",
    "        digit = temp % 10\n",
    "        count += digit ** Num2\n",
    "        temp //= 10\n",
    "        \n",
    "    if Num1 == count:\n",
    "        print(\"\\n{} is an Armstrong Number.\".format(Num1))\n",
    "    #else:\n",
    "        #print(\"\\n{} is not an Armstrong Number.\".format(Num1))\n",
    "        \n",
    "def digits(Num1):\n",
    "    count = 0\n",
    "    temp = Num1\n",
    "    Num2 = 0\n",
    "    while temp > 0 :\n",
    "        digit = temp % 10\n",
    "        count += digit ** p\n",
    "        temp //=10\n",
    "        Num2 += 1\n",
    "        #print(Num2)\n",
    "    #if Num1 == count:\n",
    "     #   print(Num1, \"is an Armstrong number \")\n",
    "    #else:\n",
    "     #   print(Num1,\"is not an Armstrong number\")\n",
    "    PrintArmstrong(Num1,Num2)\n",
    "\n",
    "N1 = int(input(\"Enter the Lower bound of interval(inclusive) : \"))\n",
    "N2 = int(input(\"Enter the Upper bound of interval(excluded) : \"))\n",
    "#p = int(input(\"the number of digits\"))\n",
    "Num1 = 0\n",
    "while  N1 < N2 :\n",
    "    digits(N1)\n",
    "    N1 = N1 + 1\n",
    "    if N1 > N2:\n",
    "        break"
   ]
  },
  {
   "cell_type": "markdown",
   "id": "64a77305",
   "metadata": {},
   "source": [
    "**Q.6.** Write a Python Program to Find the Sum of Natural Numbers?"
   ]
  },
  {
   "cell_type": "markdown",
   "id": "414b9683",
   "metadata": {},
   "source": [
    "**Answer :-**"
   ]
  },
  {
   "cell_type": "code",
   "execution_count": 8,
   "id": "30118faa",
   "metadata": {},
   "outputs": [
    {
     "name": "stdout",
     "output_type": "stream",
     "text": [
      "Enter the number to find sum of n natural numbers : 5\n",
      "\n",
      "Sum of first 5 natural numbers is: 15.\n"
     ]
    }
   ],
   "source": [
    "def SumNatural():\n",
    "    '''\n",
    "    This function will give the sum of first n natural numbers.\n",
    "    '''\n",
    "    num = int(input(\"Enter the number to find sum of n natural numbers : \"))\n",
    "        \n",
    "    result = int((num*(num+1))/2)\n",
    "    print(\"\\nSum of first {} natural numbers is: {}.\".format(num,result))\n",
    "        \n",
    "SumNatural()"
   ]
  }
 ],
 "metadata": {
  "kernelspec": {
   "display_name": "Python 3",
   "language": "python",
   "name": "python3"
  },
  "language_info": {
   "codemirror_mode": {
    "name": "ipython",
    "version": 3
   },
   "file_extension": ".py",
   "mimetype": "text/x-python",
   "name": "python",
   "nbconvert_exporter": "python",
   "pygments_lexer": "ipython3",
   "version": "3.8.8"
  }
 },
 "nbformat": 4,
 "nbformat_minor": 5
}
