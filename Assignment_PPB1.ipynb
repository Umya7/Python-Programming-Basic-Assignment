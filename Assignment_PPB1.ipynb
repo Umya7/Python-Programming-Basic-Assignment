{
 "cells": [
  {
   "cell_type": "markdown",
   "id": "e1387532",
   "metadata": {},
   "source": [
    "## Assignment 1"
   ]
  },
  {
   "cell_type": "markdown",
   "id": "daf20658",
   "metadata": {},
   "source": [
    "**Q.1.** Write a Python program to print \"Hello Python\"?"
   ]
  },
  {
   "cell_type": "markdown",
   "id": "54e2a9f7",
   "metadata": {},
   "source": [
    "**Answer :-**"
   ]
  },
  {
   "cell_type": "code",
   "execution_count": 1,
   "id": "a490874c",
   "metadata": {},
   "outputs": [
    {
     "name": "stdout",
     "output_type": "stream",
     "text": [
      "Hello Python\n"
     ]
    }
   ],
   "source": [
    "print(\"Hello Python\")"
   ]
  },
  {
   "cell_type": "markdown",
   "id": "8afea2e3",
   "metadata": {},
   "source": [
    "**Q.2.** Write a Python program to do arithmetical operations addition and division.?"
   ]
  },
  {
   "cell_type": "markdown",
   "id": "33a449f7",
   "metadata": {},
   "source": [
    "**Answer :-**"
   ]
  },
  {
   "cell_type": "code",
   "execution_count": 2,
   "id": "5fd9debb",
   "metadata": {},
   "outputs": [
    {
     "name": "stdout",
     "output_type": "stream",
     "text": [
      "Enter a first vaild Number : 12\n",
      "Enter a second vaild Number : 3\n",
      " The Addition of 12 and 3 is 15.0 \n",
      " The Division of 12 and 3 is 4.0 \n"
     ]
    }
   ],
   "source": [
    "Num_1 = input(\"Enter a first vaild Number : \")\n",
    "Num_2 = input(\"Enter a second vaild Number : \")\n",
    "\n",
    "Addition = float(Num_1) + float(Num_2)\n",
    "Division = float(Num_1) / float(Num_2)\n",
    "\n",
    "print(' The Addition of {0} and {1} is {2} '.format(Num_1, Num_2, Addition))\n",
    "print(' The Division of {0} and {1} is {2} '.format(Num_1, Num_2, Division))"
   ]
  },
  {
   "cell_type": "markdown",
   "id": "c4a043c3",
   "metadata": {},
   "source": [
    "**Q.3.** Write a Python program to find the area of a triangle?"
   ]
  },
  {
   "cell_type": "markdown",
   "id": "1de0dff1",
   "metadata": {},
   "source": [
    "**Answer :-**"
   ]
  },
  {
   "cell_type": "code",
   "execution_count": 3,
   "id": "c2a263b4",
   "metadata": {},
   "outputs": [
    {
     "name": "stdout",
     "output_type": "stream",
     "text": [
      "Enter the First side of a Triangle : 12\n",
      "Enter the Second side of b Triangle : 10\n",
      "Enter the Third side of c Triangle : 9\n",
      " The Area of a Triangle is : 44.04\n"
     ]
    }
   ],
   "source": [
    "a = float(input('Enter the First side of a Triangle : '))\n",
    "b = float(input('Enter the Second side of b Triangle : '))\n",
    "c = float(input('Enter the Third side of c Triangle : '))\n",
    " \n",
    "# calculate the Perimeter\n",
    "Perimeter = a + b + c\n",
    " \n",
    "# calculate the semi-perimeter\n",
    "s = Perimeter / 2\n",
    " \n",
    "# calculate the area\n",
    "Area = (s *(s-a)*(s-b)*(s-c)) ** 0.5\n",
    "\n",
    "print(\" The Area of a Triangle is : %0.2f\" %Area)"
   ]
  },
  {
   "cell_type": "markdown",
   "id": "b73bdaee",
   "metadata": {},
   "source": [
    "**Q.4.** Write a Python program to swap two variables?"
   ]
  },
  {
   "cell_type": "markdown",
   "id": "7ef3be0a",
   "metadata": {},
   "source": [
    "**Answer :-**"
   ]
  },
  {
   "cell_type": "code",
   "execution_count": 4,
   "id": "a0f9527f",
   "metadata": {},
   "outputs": [
    {
     "name": "stdout",
     "output_type": "stream",
     "text": [
      "Enter a value for x is : 7\n",
      "Enter a value for y is : 11\n",
      " The swap value of x is : 11\n",
      " The swap value of y is : 7\n"
     ]
    }
   ],
   "source": [
    "x = input(\"Enter a value for x is : \")\n",
    "y = input(\"Enter a value for y is : \")\n",
    "temp = x\n",
    "x = y\n",
    "y = temp\n",
    "\n",
    "print(' The swap value of x is : {}'.format(x))\n",
    "print(' The swap value of y is : {}'.format(y))"
   ]
  },
  {
   "cell_type": "markdown",
   "id": "be58f2b0",
   "metadata": {},
   "source": [
    "**Q.5.** Write a Python program to generate a random number?"
   ]
  },
  {
   "cell_type": "markdown",
   "id": "4282655d",
   "metadata": {},
   "source": [
    "**Answer :-**"
   ]
  },
  {
   "cell_type": "code",
   "execution_count": 5,
   "id": "2cd6a46a",
   "metadata": {},
   "outputs": [
    {
     "name": "stdout",
     "output_type": "stream",
     "text": [
      "20\n"
     ]
    }
   ],
   "source": [
    "import random\n",
    "print(random.randint(0, 25))"
   ]
  }
 ],
 "metadata": {
  "kernelspec": {
   "display_name": "Python 3",
   "language": "python",
   "name": "python3"
  },
  "language_info": {
   "codemirror_mode": {
    "name": "ipython",
    "version": 3
   },
   "file_extension": ".py",
   "mimetype": "text/x-python",
   "name": "python",
   "nbconvert_exporter": "python",
   "pygments_lexer": "ipython3",
   "version": "3.8.8"
  }
 },
 "nbformat": 4,
 "nbformat_minor": 5
}
