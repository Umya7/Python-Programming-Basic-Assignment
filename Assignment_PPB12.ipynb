{
 "cells": [
  {
   "cell_type": "markdown",
   "id": "2ab206d1",
   "metadata": {},
   "source": [
    "## Assignment 12"
   ]
  },
  {
   "cell_type": "markdown",
   "id": "3462ebd9",
   "metadata": {},
   "source": [
    "**Q.1.** Write a Python program to Extract Unique values dictionary values?"
   ]
  },
  {
   "cell_type": "markdown",
   "id": "c0291cda",
   "metadata": {},
   "source": [
    "**Answer :-**"
   ]
  },
  {
   "cell_type": "code",
   "execution_count": 1,
   "id": "cfbc1236",
   "metadata": {},
   "outputs": [
    {
     "name": "stdout",
     "output_type": "stream",
     "text": [
      "Unique Value from Dictionry values are : {32, 33, 3, 4, 11, 15, 21, 25}\n"
     ]
    }
   ],
   "source": [
    "# Initializing dictionary\n",
    "\n",
    "Dict = {'a' : [3, 32, 25, 33],\n",
    "        'b' : [4, 21, 25, 15],\n",
    "        'c' : [4, 33, 21, 11],\n",
    "        'd' : [3, 15, 11, 32]}\n",
    "\n",
    "# Extract Unique dictionary values\n",
    "ListSet = set([ele for val in Dict.values() for ele in val])\n",
    "\n",
    "# printing Output\n",
    "print(\"Unique Value from Dictionry values are : {}\".format(ListSet))"
   ]
  },
  {
   "cell_type": "markdown",
   "id": "66d1e9e6",
   "metadata": {},
   "source": [
    "**Q.2.** Write a Python program to find the sum of all items in a dictionary?"
   ]
  },
  {
   "cell_type": "markdown",
   "id": "cf96b99f",
   "metadata": {},
   "source": [
    "**Answer :-**"
   ]
  },
  {
   "cell_type": "code",
   "execution_count": 2,
   "id": "1766a574",
   "metadata": {},
   "outputs": [
    {
     "name": "stdout",
     "output_type": "stream",
     "text": [
      "Sum of all items is : 112\n"
     ]
    }
   ],
   "source": [
    "# Initializing dictionary Dict1\n",
    "\n",
    "Dict1 = {'a' : 13, 'b' : 23, 'c' : 33, 'd' : 43}\n",
    "\n",
    "# Creating Function to print Sum\n",
    "Sum = 0\n",
    "for i in Dict1.values():\n",
    "    Sum += i\n",
    "\n",
    "# Result\n",
    "print(\"Sum of all items is : {}\".format(Sum))"
   ]
  },
  {
   "cell_type": "markdown",
   "id": "7cfc9cfa",
   "metadata": {},
   "source": [
    "**Q.3.** Write a Python program to Merging two Dictionaries?"
   ]
  },
  {
   "cell_type": "markdown",
   "id": "eb15c576",
   "metadata": {},
   "source": [
    "**Answer :-**"
   ]
  },
  {
   "cell_type": "code",
   "execution_count": 3,
   "id": "241ecaa8",
   "metadata": {},
   "outputs": [
    {
     "name": "stdout",
     "output_type": "stream",
     "text": [
      "Dict A :  {'x': 31, 'y': 23}\n",
      "Dict B :  {'y': 33, 'z': 43}\n",
      "Updated Dictionary : {'x': 31, 'y': 33, 'z': 43}\n"
     ]
    }
   ],
   "source": [
    "# Initializing dictionary A & B\n",
    "A = { 'x': 31, 'y': 23}\n",
    "\n",
    "B = { 'y': 33, 'z': 43}\n",
    "\n",
    "# copying dict A in dict C\n",
    "C = A.copy()\n",
    "\n",
    "# Updating dict C with dict B\n",
    "C.update(B)\n",
    "\n",
    "# Printing Initial Dict of A & B\n",
    "print(\"Dict A : \", A)\n",
    "print(\"Dict B : \", B)\n",
    "\n",
    "# Result\n",
    "print('Updated Dictionary : {}'.format(C))"
   ]
  },
  {
   "cell_type": "markdown",
   "id": "215cb44a",
   "metadata": {},
   "source": [
    "**Q.4.** Write a Python program to convert key-values list to flat dictionary?"
   ]
  },
  {
   "cell_type": "markdown",
   "id": "e0a4efcc",
   "metadata": {},
   "source": [
    "**Answer :-**"
   ]
  },
  {
   "cell_type": "code",
   "execution_count": 4,
   "id": "01180cf0",
   "metadata": {},
   "outputs": [
    {
     "name": "stdout",
     "output_type": "stream",
     "text": [
      "The original dictionary is : {'month': [1, 2, 3], 'name': ['Jan', 'Feb', 'March']}\n",
      "Flattened dictionary : {1: 'Jan', 2: 'Feb', 3: 'March'}\n"
     ]
    }
   ],
   "source": [
    "# Initializing dictionary\n",
    "Dict2 = {'month' : [1, 2, 3],\n",
    "        'name' : ['Jan', 'Feb', 'March']}\n",
    "  \n",
    "# printing original dictionary\n",
    "print(\"The original dictionary is : \" + str(Dict2))\n",
    "  \n",
    "# Convert key-values list to flat dictionary\n",
    "# Using dict() + zip()\n",
    "res = dict(zip(Dict2['month'], Dict2['name']))\n",
    "  \n",
    "# printing result \n",
    "print(\"Flattened dictionary : \" + str(res)) "
   ]
  },
  {
   "cell_type": "markdown",
   "id": "459dc2f3",
   "metadata": {},
   "source": [
    "**Q.5.** Write a Python program to insertion at the beginning in OrderedDict?"
   ]
  },
  {
   "cell_type": "markdown",
   "id": "1b02de73",
   "metadata": {},
   "source": [
    "**Answer :-**"
   ]
  },
  {
   "cell_type": "code",
   "execution_count": 5,
   "id": "b19b7e87",
   "metadata": {},
   "outputs": [
    {
     "name": "stdout",
     "output_type": "stream",
     "text": [
      "Ordered Dictionary after insertion : OrderedDict([('Jan', '1'), ('Feb', '2'), ('Mar', '3')])\n"
     ]
    }
   ],
   "source": [
    "# insertion of items in beginning of ordered dict\n",
    "from collections import OrderedDict\n",
    "  \n",
    "# initialising ordered_dict\n",
    "iniordered_dict = OrderedDict([('Feb', '2'), ('Mar', '3')])\n",
    "  \n",
    "# inserting items in starting of dict \n",
    "iniordered_dict.update({'Jan':'1'})\n",
    "iniordered_dict.move_to_end('Jan', last = False)\n",
    "  \n",
    "# print result\n",
    "print (\"Ordered Dictionary after insertion : \"+str(iniordered_dict))"
   ]
  },
  {
   "cell_type": "markdown",
   "id": "99b8d08a",
   "metadata": {},
   "source": [
    "**Q.6.** Write a Python program to check order of character in string using `OrderedDict()`?"
   ]
  },
  {
   "cell_type": "markdown",
   "id": "1ab4c022",
   "metadata": {},
   "source": [
    "**Answer :-**"
   ]
  },
  {
   "cell_type": "code",
   "execution_count": 6,
   "id": "65670a70",
   "metadata": {},
   "outputs": [
    {
     "name": "stdout",
     "output_type": "stream",
     "text": [
      "The string is : Hello I am Umesh!\n",
      "The input pattern is : es\n",
      "true\n"
     ]
    }
   ],
   "source": [
    "# characters defined by a pattern \n",
    "from collections import OrderedDict \n",
    "  \n",
    "def checkOrder(Input, Pattern): \n",
    "      \n",
    "    # create empty OrderedDict \n",
    "    # output will be like {'a': None,'b': None, 'c': None} \n",
    "    dict = OrderedDict.fromkeys(Input) \n",
    "  \n",
    "    # traverse generated OrderedDict parallel with \n",
    "    # pattern string to check if order of characters \n",
    "    # are same or not \n",
    "    ptrlen = 0\n",
    "    for key,value in dict.items(): \n",
    "        if (key == Pattern[ptrlen]): \n",
    "            ptrlen = ptrlen + 1\n",
    "          \n",
    "        # check if we have traverse complete \n",
    "        # pattern string \n",
    "        if (ptrlen == (len(Pattern))): \n",
    "            return 'true'\n",
    "  \n",
    "    # if we come out from for loop that means \n",
    "    # order was mismatched \n",
    "    return 'false'\n",
    "\n",
    "Input = \"Hello I am Umesh!\"\n",
    "print(\"The string is : {}\".format(Input))\n",
    "\n",
    "Pattern = \"es\"\n",
    "print(\"The input pattern is : {}\".format(Pattern))\n",
    "\n",
    "print (checkOrder(Input, Pattern)) "
   ]
  },
  {
   "cell_type": "markdown",
   "id": "40a373eb",
   "metadata": {},
   "source": [
    "**Q.7.** Write a Python program to sort Python Dictionaries by Key or Value?"
   ]
  },
  {
   "cell_type": "markdown",
   "id": "c489de8a",
   "metadata": {},
   "source": [
    "**Answer :-**"
   ]
  },
  {
   "cell_type": "code",
   "execution_count": 7,
   "id": "77751891",
   "metadata": {},
   "outputs": [
    {
     "name": "stdout",
     "output_type": "stream",
     "text": [
      "[1, 2, 3, 4, 5, 6]\n",
      "[(1, 2), (2, 1), (3, 4), (4, 3), (5, 6), (6, 5)]\n"
     ]
    }
   ],
   "source": [
    "# Initializing dictionary\n",
    "a = {1:2, 2:1, 4:3, 3:4, 6:5, 5:6}\n",
    "\n",
    "# This will print a sorted list of the keys\n",
    "print(sorted(a.keys()))\n",
    "\n",
    "# This will print the sorted list with items.\n",
    "print(sorted(a.items()))"
   ]
  }
 ],
 "metadata": {
  "kernelspec": {
   "display_name": "Python 3",
   "language": "python",
   "name": "python3"
  },
  "language_info": {
   "codemirror_mode": {
    "name": "ipython",
    "version": 3
   },
   "file_extension": ".py",
   "mimetype": "text/x-python",
   "name": "python",
   "nbconvert_exporter": "python",
   "pygments_lexer": "ipython3",
   "version": "3.8.8"
  }
 },
 "nbformat": 4,
 "nbformat_minor": 5
}
