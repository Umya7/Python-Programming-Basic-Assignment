{
 "cells": [
  {
   "cell_type": "markdown",
   "id": "4d42288e",
   "metadata": {},
   "source": [
    "## Assignment 10"
   ]
  },
  {
   "cell_type": "markdown",
   "id": "eeb63c23",
   "metadata": {},
   "source": [
    "**Q.1.** Write a Python program to find sum of elements in list?"
   ]
  },
  {
   "cell_type": "markdown",
   "id": "a1566754",
   "metadata": {},
   "source": [
    "**Answer :-**"
   ]
  },
  {
   "cell_type": "code",
   "execution_count": 1,
   "id": "aa7d07da",
   "metadata": {},
   "outputs": [
    {
     "name": "stdout",
     "output_type": "stream",
     "text": [
      "Please enter the Total Number of List Elements : 5\n",
      "Please enter the Value of 1 Element : 1\n",
      "Please enter the Value of 2 Element : 2\n",
      "Please enter the Value of 3 Element : 3\n",
      "Please enter the Value of 4 Element : 4\n",
      "Please enter the Value of 5 Element : 5\n",
      "\n",
      " The Sum of All Element in this [1, 2, 3, 4, 5] is : 15\n"
     ]
    }
   ],
   "source": [
    "def sum_of_list(NumList):\n",
    "    \"This function will return the sum of all elements of an integer List\"\n",
    "    total = 0\n",
    "    for j in range(Number):\n",
    "        total = total + NumList[j]\n",
    "    return total\n",
    "\n",
    "\n",
    "NumList = []\n",
    "Number = int(input(\"Please enter the Total Number of List Elements : \"))\n",
    "for i in range(1, Number + 1):\n",
    "    value = int(input(\"Please enter the Value of %d Element : \" %i))\n",
    "    NumList.append(value)\n",
    "\n",
    "total = sum_of_list(NumList)\n",
    "print(f\"\\n The Sum of All Element in this {NumList} is : {total}\")"
   ]
  },
  {
   "cell_type": "markdown",
   "id": "2720e13a",
   "metadata": {},
   "source": [
    "**Q.2.** Write a Python program to Multiply all numbers in the list?"
   ]
  },
  {
   "cell_type": "markdown",
   "id": "445f2144",
   "metadata": {},
   "source": [
    "**Answer :-**"
   ]
  },
  {
   "cell_type": "code",
   "execution_count": 2,
   "id": "aad0e1af",
   "metadata": {},
   "outputs": [
    {
     "name": "stdout",
     "output_type": "stream",
     "text": [
      "Please enter the Total Number of List Elements : 4\n",
      "Please enter the Value of 1 Element : 1\n",
      "Please enter the Value of 2 Element : 2\n",
      "Please enter the Value of 3 Element : 3\n",
      "Please enter the Value of 4 Element : 4\n",
      "\n",
      " The Multiplication of All Element in this [1, 2, 3, 4] is : 24\n"
     ]
    }
   ],
   "source": [
    "def Multiply_of_list(NumList):\n",
    "    \"This function will return the multiplication of all elements of an integer List\"\n",
    "    total = 1\n",
    "    for i in NumList:\n",
    "         total = total * i\n",
    "    return total\n",
    "\n",
    "NumList = []\n",
    "Number = int(input(\"Please enter the Total Number of List Elements : \"))\n",
    "for i in range(1, Number + 1):\n",
    "    value = int(input(\"Please enter the Value of %d Element : \" %i))\n",
    "    NumList.append(value)\n",
    "\n",
    "total = Multiply_of_list(NumList)\n",
    "print(f\"\\n The Multiplication of All Element in this {NumList} is : {total}\")"
   ]
  },
  {
   "cell_type": "markdown",
   "id": "78150314",
   "metadata": {},
   "source": [
    "**Q.3.** Write a Python program to find smallest number in a list?"
   ]
  },
  {
   "cell_type": "markdown",
   "id": "8a8e726a",
   "metadata": {},
   "source": [
    "**Answer :-**"
   ]
  },
  {
   "cell_type": "code",
   "execution_count": 3,
   "id": "910b0c41",
   "metadata": {},
   "outputs": [
    {
     "name": "stdout",
     "output_type": "stream",
     "text": [
      "Please enter the Total Number of List Elements : 7\n",
      "Please enter the Value of 1 Element : 11\n",
      "Please enter the Value of 2 Element : 36\n",
      "Please enter the Value of 3 Element : 25\n",
      "Please enter the Value of 4 Element : 12\n",
      "Please enter the Value of 5 Element : 9\n",
      "Please enter the Value of 6 Element : 45\n",
      "Please enter the Value of 7 Element : 32\n",
      "\n",
      " The Smallest number in given [11, 36, 25, 12, 9, 45, 32] is : 9\n"
     ]
    }
   ],
   "source": [
    "def Small_Num_In_List(NumList):\n",
    "    \"This function will return the smallest number in the given list\"\n",
    "    Smallest = NumList[0]\n",
    "    for a in NumList:\n",
    "        if a < Smallest:\n",
    "            Smallest = a\n",
    "    return Smallest\n",
    "\n",
    "NumList = []\n",
    "Number = int(input(\"Please enter the Total Number of List Elements : \"))\n",
    "for i in range(1, Number + 1):\n",
    "    value = int(input(\"Please enter the Value of %d Element : \" %i))\n",
    "    NumList.append(value)\n",
    "\n",
    "Smallest = Small_Num_In_List(NumList)\n",
    "print(f\"\\n The Smallest number in given {NumList} is : {Smallest}\")"
   ]
  },
  {
   "cell_type": "markdown",
   "id": "ef309540",
   "metadata": {},
   "source": [
    "**Q.4.** Write a Python program to find largest number in a list?"
   ]
  },
  {
   "cell_type": "markdown",
   "id": "74deeb0e",
   "metadata": {},
   "source": [
    "**Answer :-**"
   ]
  },
  {
   "cell_type": "code",
   "execution_count": 4,
   "id": "d55aa92f",
   "metadata": {},
   "outputs": [
    {
     "name": "stdout",
     "output_type": "stream",
     "text": [
      "Please enter the Total Number of List Elements : 7\n",
      "Please enter the Value of 1 Element : 12\n",
      "Please enter the Value of 2 Element : 35\n",
      "Please enter the Value of 3 Element : 96\n",
      "Please enter the Value of 4 Element : 45\n",
      "Please enter the Value of 5 Element : 23\n",
      "Please enter the Value of 6 Element : 55\n",
      "Please enter the Value of 7 Element : 28\n",
      "\n",
      " The Smallest number in given [12, 35, 96, 45, 23, 55, 28] is : 96\n"
     ]
    }
   ],
   "source": [
    "def Larger_Num_In_List(NumList):\n",
    "    \"This function will return the Largest number in the given list\"\n",
    "    Largest = NumList[0]\n",
    "    for a in NumList:\n",
    "        if a > Largest:\n",
    "            Largest = a\n",
    "    return Largest\n",
    "\n",
    "NumList = []\n",
    "Number = int(input(\"Please enter the Total Number of List Elements : \"))\n",
    "for i in range(1, Number + 1):\n",
    "    value = int(input(\"Please enter the Value of %d Element : \" %i))\n",
    "    NumList.append(value)\n",
    "\n",
    "Largest = Larger_Num_In_List(NumList)\n",
    "print(f\"\\n The Smallest number in given {NumList} is : {Largest}\")"
   ]
  },
  {
   "cell_type": "markdown",
   "id": "5164a8d7",
   "metadata": {},
   "source": [
    "**Q.5.** Write a Python program to find second largest number in a list?"
   ]
  },
  {
   "cell_type": "markdown",
   "id": "6f17f711",
   "metadata": {},
   "source": [
    "**Answer :-**"
   ]
  },
  {
   "cell_type": "code",
   "execution_count": 5,
   "id": "9d6101e9",
   "metadata": {},
   "outputs": [
    {
     "name": "stdout",
     "output_type": "stream",
     "text": [
      "Please enter the Total Number of List Elements : 7\n",
      "Please enter the Value of 1 Element : 23\n",
      "Please enter the Value of 2 Element : 56\n",
      "Please enter the Value of 3 Element : 64\n",
      "Please enter the Value of 4 Element : 85\n",
      "Please enter the Value of 5 Element : 96\n",
      "Please enter the Value of 6 Element : 15\n",
      "Please enter the Value of 7 Element : 45\n",
      "\n",
      " The Second Largest number in given [23, 56, 64, 85, 96, 15, 45] is : 85\n"
     ]
    }
   ],
   "source": [
    "def Second_Largest(list1):\n",
    "    \"This function will return the Second Largest number in the given list\"\n",
    "    secondLargest = list1[0]\n",
    "    largest = list1[0]\n",
    " \n",
    "    for i in range(len(list1)):\n",
    "        if list1[i] > largest:\n",
    "            largest = list1[i]\n",
    " \n",
    "    for i in range(len(list1)):\n",
    "        if list1[i] > secondLargest and list1[i] != largest:\n",
    "            secondLargest = list1[i]\n",
    " \n",
    "    # Returning second largest element\n",
    "    return secondLargest\n",
    " \n",
    "list1 = []\n",
    "Number = int(input(\"Please enter the Total Number of List Elements : \"))\n",
    "for i in range(1, Number + 1):\n",
    "    value = int(input(\"Please enter the Value of %d Element : \" %i))\n",
    "    list1.append(value)\n",
    "\n",
    "secondLargest = Second_Largest(list1)\n",
    "print(f\"\\n The Second Largest number in given {list1} is : {secondLargest}\")"
   ]
  },
  {
   "cell_type": "markdown",
   "id": "01180149",
   "metadata": {},
   "source": [
    "**Q.6.** Write a Python program to find N largest elements from a list?"
   ]
  },
  {
   "cell_type": "markdown",
   "id": "714997c5",
   "metadata": {},
   "source": [
    "**Answer :-**"
   ]
  },
  {
   "cell_type": "code",
   "execution_count": 6,
   "id": "e3a42b20",
   "metadata": {},
   "outputs": [
    {
     "name": "stdout",
     "output_type": "stream",
     "text": [
      "Enter the Value for N : 3\n",
      "Please enter the Total Number of List Elements : 5\n",
      "Please enter the Value of 1 Element : 2\n",
      "Please enter the Value of 2 Element : 6\n",
      "Please enter the Value of 3 Element : 5\n",
      "Please enter the Value of 4 Element : 4\n",
      "Please enter the Value of 5 Element : 9\n",
      "\n",
      " The 3 Largest number in given [2, 6, 5, 4, 9] is : [9, 6, 5]\n"
     ]
    }
   ],
   "source": [
    "def N_Largest_Num_in_List(list1, N):\n",
    "    \"This function will return the N Largest Number in the given list\"\n",
    "    final_list = []\n",
    "    for i in range(0, N): \n",
    "        max1 = 0\n",
    "          \n",
    "        for j in range(len(list1)):     \n",
    "            if list1[j] > max1:\n",
    "                max1 = list1[j];\n",
    "                  \n",
    "        list1.remove(max1);\n",
    "        final_list.append(max1)\n",
    "          \n",
    "    return final_list\n",
    "\n",
    "list1 = []\n",
    "list2 = []\n",
    "N = int(input(\"Enter the Value for N : \"))\n",
    "Number = int(input(\"Please enter the Total Number of List Elements : \"))\n",
    "for i in range(1, Number + 1):\n",
    "    value = int(input(\"Please enter the Value of %d Element : \" %i))\n",
    "    list1.append(value)\n",
    "    list2.append(value)\n",
    "\n",
    "final_list = N_Largest_Num_in_List(list1, N)\n",
    "print(f\"\\n The {N} Largest number in given {list2} is : {final_list}\")"
   ]
  },
  {
   "cell_type": "markdown",
   "id": "36a50fe0",
   "metadata": {},
   "source": [
    "**Q.7.** Write a Python program to print even numbers in a list?"
   ]
  },
  {
   "cell_type": "markdown",
   "id": "5dbfb834",
   "metadata": {},
   "source": [
    "**Answer :-**"
   ]
  },
  {
   "cell_type": "code",
   "execution_count": 7,
   "id": "acdc599e",
   "metadata": {},
   "outputs": [
    {
     "name": "stdout",
     "output_type": "stream",
     "text": [
      "Please enter the Total Number of List Elements : 11\n",
      "Please enter the Value of 1 Element : 22\n",
      "Please enter the Value of 2 Element : 31\n",
      "Please enter the Value of 3 Element : 26\n",
      "Please enter the Value of 4 Element : 45\n",
      "Please enter the Value of 5 Element : 46\n",
      "Please enter the Value of 6 Element : 36\n",
      "Please enter the Value of 7 Element : 15\n",
      "Please enter the Value of 8 Element : 20\n",
      "Please enter the Value of 9 Element : 18\n",
      "Please enter the Value of 10 Element : 19\n",
      "Please enter the Value of 11 Element : 33\n",
      "\n",
      " The Even Number in given [22, 31, 26, 45, 46, 36, 15, 20, 18, 19, 33] is : [22, 26, 46, 36, 20, 18]\n"
     ]
    }
   ],
   "source": [
    "def Even_Num_in_List(list1):\n",
    "    \"This function will return the Even number in the given list\"\n",
    "    Even_Num = []\n",
    "    for n in list1:\n",
    "        if n % 2 == 0:\n",
    "            Even_Num.append(n)\n",
    "    return Even_Num\n",
    "\n",
    "list1 = []\n",
    "Number = int(input(\"Please enter the Total Number of List Elements : \"))\n",
    "for i in range(1, Number + 1):\n",
    "    value = int(input(\"Please enter the Value of %d Element : \" %i))\n",
    "    list1.append(value)\n",
    "\n",
    "Even_Num = Even_Num_in_List(list1)\n",
    "print(f\"\\n The Even Number in given {list1} is : {Even_Num}\")"
   ]
  },
  {
   "cell_type": "markdown",
   "id": "1e8653cc",
   "metadata": {},
   "source": [
    "**Q.8.** Write a Python program to print odd numbers in a List?"
   ]
  },
  {
   "cell_type": "markdown",
   "id": "b4960ed3",
   "metadata": {},
   "source": [
    "**Answer :-**"
   ]
  },
  {
   "cell_type": "code",
   "execution_count": 8,
   "id": "6e90a43a",
   "metadata": {},
   "outputs": [
    {
     "name": "stdout",
     "output_type": "stream",
     "text": [
      "Please enter the Total Number of List Elements : 5\n",
      "Please enter the Value of 1 Element : 31\n",
      "Please enter the Value of 2 Element : 25\n",
      "Please enter the Value of 3 Element : 22\n",
      "Please enter the Value of 4 Element : 15\n",
      "Please enter the Value of 5 Element : 26\n",
      "\n",
      " The Even Number in given [31, 25, 22, 15, 26] is : [31, 25, 15]\n"
     ]
    }
   ],
   "source": [
    "def Odd_Num_in_List(list1):\n",
    "    \"This function will return the Odd number in the given list\"\n",
    "    Even_Num = []\n",
    "    for n in list1:\n",
    "        if n % 2 != 0:\n",
    "            Even_Num.append(n)\n",
    "    return Even_Num\n",
    "\n",
    "list1 = []\n",
    "Number = int(input(\"Please enter the Total Number of List Elements : \"))\n",
    "for i in range(1, Number + 1):\n",
    "    value = int(input(\"Please enter the Value of %d Element : \" %i))\n",
    "    list1.append(value)\n",
    "\n",
    "Odd_Num = Odd_Num_in_List(list1)\n",
    "print(f\"\\n The Even Number in given {list1} is : {Odd_Num}\")"
   ]
  },
  {
   "cell_type": "markdown",
   "id": "6bab316e",
   "metadata": {},
   "source": [
    "**Q.9.** Write a Python program to Remove empty List from List?"
   ]
  },
  {
   "cell_type": "markdown",
   "id": "68e59ae7",
   "metadata": {},
   "source": [
    "**Answer :-**"
   ]
  },
  {
   "cell_type": "code",
   "execution_count": 9,
   "id": "8c40f53b",
   "metadata": {},
   "outputs": [
    {
     "name": "stdout",
     "output_type": "stream",
     "text": [
      "Please enter the Total Number of List Elements : 5\n",
      "enter the size of sub list : 3\n",
      "Please enter the Value of 0 Element : 2\n",
      "Please enter the Value of 0 Element : 3\n",
      "Please enter the Value of 0 Element : 4\n",
      "enter the size of sub list : 2\n",
      "Please enter the Value of 1 Element : 3\n",
      "Please enter the Value of 1 Element : 4\n",
      "enter the size of sub list : 0\n",
      "enter the size of sub list : 1\n",
      "Please enter the Value of 3 Element : 3\n",
      "enter the size of sub list : 0\n",
      "\n",
      " The Even Number in given [[2, 3, 4], [3, 4], [], [3], []] is : [[2, 3, 4], [3, 4], [3]]\n"
     ]
    }
   ],
   "source": [
    "def Remove_Empty_list(list1):\n",
    "    \"This function will remove the empty list in the given list\"\n",
    "    new_list = []\n",
    "    for ele in list1:\n",
    "        if ele:\n",
    "            new_list.append(ele)\n",
    "    return new_list\n",
    " \n",
    "list1 = []\n",
    "Number = int(input(\"Please enter the Total Number of List Elements : \"))\n",
    "for i in range(Number):\n",
    "    list2 = []\n",
    "    size = int(input(\"enter the size of sub list : \"))\n",
    "    for j in range(size):\n",
    "        value = int(input(\"Please enter the Value of %d Element : \" %i))\n",
    "        list2.append(value)\n",
    "    list1.append(list2)\n",
    "    \n",
    "new_list = Remove_Empty_list(list1)\n",
    "print(f\"\\n The Even Number in given {list1} is : {new_list}\")"
   ]
  },
  {
   "cell_type": "markdown",
   "id": "151f3c24",
   "metadata": {},
   "source": [
    "**Q.10.** Write a Python program to Cloning or Copying a list?"
   ]
  },
  {
   "cell_type": "markdown",
   "id": "1d8e8ea3",
   "metadata": {},
   "source": [
    "**Answer :-**"
   ]
  },
  {
   "cell_type": "code",
   "execution_count": 10,
   "id": "488241c2",
   "metadata": {},
   "outputs": [
    {
     "name": "stdout",
     "output_type": "stream",
     "text": [
      "Please enter the Total Number of List Elements : 5\n",
      "Please enter the Value of 1 Element : 3\n",
      "Please enter the Value of 2 Element : 5\n",
      "Please enter the Value of 3 Element : 7\n",
      "Please enter the Value of 4 Element : 6\n",
      "Please enter the Value of 5 Element : 4\n",
      "\n",
      " Original list is : [3, 5, 7, 6, 4]\n",
      "\n",
      " After Cloning or Copy of Original [3, 5, 7, 6, 4] is : [3, 5, 7, 6, 4]\n"
     ]
    }
   ],
   "source": [
    "def Cloning(list1):\n",
    "    \"This function will copy the given list\"\n",
    "    Copy = list1[:]\n",
    "    return Copy\n",
    "   \n",
    "list1 = []\n",
    "Number = int(input(\"Please enter the Total Number of List Elements : \"))\n",
    "for i in range(1, Number + 1):\n",
    "    value = int(input(\"Please enter the Value of %d Element : \" %i))\n",
    "    list1.append(value)\n",
    "\n",
    "Copy = Cloning(list1)\n",
    "print(f\"\\n Original list is : {list1}\")\n",
    "print(f\"\\n After Cloning or Copy of Original {list1} is : {Copy}\")"
   ]
  },
  {
   "cell_type": "markdown",
   "id": "1a548c39",
   "metadata": {},
   "source": [
    "**Q.11.** Write a Python program to Count occurrences of an element in a list?"
   ]
  },
  {
   "cell_type": "markdown",
   "id": "7d7f7166",
   "metadata": {},
   "source": [
    "**Answer :-**"
   ]
  },
  {
   "cell_type": "code",
   "execution_count": 11,
   "id": "84e469be",
   "metadata": {},
   "outputs": [
    {
     "name": "stdout",
     "output_type": "stream",
     "text": [
      "Please enter the Total Number of List Elements : 7\n",
      "Please enter the Value of 1 Element : 1\n",
      "Please enter the Value of 2 Element : 1\n",
      "Please enter the Value of 3 Element : 6\n",
      "Please enter the Value of 4 Element : 5\n",
      "Please enter the Value of 5 Element : 6\n",
      "Please enter the Value of 6 Element : 5\n",
      "Please enter the Value of 7 Element : 1\n",
      "\n",
      " Count the occurrences of the items in the said [1, 1, 6, 5, 6, 5, 1] is : {1: 3, 6: 2, 5: 2}\n"
     ]
    }
   ],
   "source": [
    "def Count_Occurrences(list1):\n",
    "    \"This function will return the element occurrence in the given list\"\n",
    "    result = dict(map(lambda el  : (el, list(list1).count(el)), list1))\n",
    "    return result\n",
    "\n",
    "list1 = []\n",
    "Number = int(input(\"Please enter the Total Number of List Elements : \"))\n",
    "for i in range(1, Number + 1):\n",
    "    value = int(input(\"Please enter the Value of %d Element : \" %i))\n",
    "    list1.append(value)\n",
    "\n",
    "result = Count_Occurrences(list1)\n",
    "print(f\"\\n Count the occurrences of the items in the said {list1} is : {result}\")"
   ]
  }
 ],
 "metadata": {
  "kernelspec": {
   "display_name": "Python 3",
   "language": "python",
   "name": "python3"
  },
  "language_info": {
   "codemirror_mode": {
    "name": "ipython",
    "version": 3
   },
   "file_extension": ".py",
   "mimetype": "text/x-python",
   "name": "python",
   "nbconvert_exporter": "python",
   "pygments_lexer": "ipython3",
   "version": "3.8.8"
  }
 },
 "nbformat": 4,
 "nbformat_minor": 5
}
