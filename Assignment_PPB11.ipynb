{
 "cells": [
  {
   "cell_type": "markdown",
   "id": "5b57b7b9",
   "metadata": {},
   "source": [
    "## Assignment 11"
   ]
  },
  {
   "cell_type": "markdown",
   "id": "074af1ca",
   "metadata": {},
   "source": [
    "**Q.1.** Write a Python program to find words which are greater than given length k?"
   ]
  },
  {
   "cell_type": "markdown",
   "id": "9b145965",
   "metadata": {},
   "source": [
    "**Answer :-**"
   ]
  },
  {
   "cell_type": "code",
   "execution_count": 1,
   "id": "078ae64a",
   "metadata": {},
   "outputs": [
    {
     "name": "stdout",
     "output_type": "stream",
     "text": [
      "Enter the string : Hello! My name is Umesh\n",
      "Enter the lenth K : 4\n",
      "\n",
      "The original string ' Hello! My name is Umesh '\n",
      "Words which are greater than length 4\n",
      "['Hello!', 'Umesh']\n"
     ]
    }
   ],
   "source": [
    "def WordGreaterThanLenghtK(k, str):\n",
    "    txt = str.split()\n",
    "    listOfWords = []\n",
    "    for i in txt:\n",
    "        if len(i) > k:\n",
    "            listOfWords.append(i)\n",
    "    return listOfWords\n",
    "\n",
    "str = input(\"Enter the string : \")\n",
    "k = int(input(\"Enter the lenth K : \"))\n",
    "\n",
    "listword = WordGreaterThanLenghtK(k,str)\n",
    "\n",
    "print(\"\\nThe original string ' {} '\".format(str))\n",
    "\n",
    "print(\"Words which are greater than length {}\".format(k))\n",
    "print(listword)"
   ]
  },
  {
   "cell_type": "markdown",
   "id": "1b480002",
   "metadata": {},
   "source": [
    "**Q.2.** Write a Python program for removing i-th character from a string?"
   ]
  },
  {
   "cell_type": "markdown",
   "id": "6509d212",
   "metadata": {},
   "source": [
    "**Answer :-**"
   ]
  },
  {
   "cell_type": "code",
   "execution_count": 2,
   "id": "53e90186",
   "metadata": {},
   "outputs": [
    {
     "name": "stdout",
     "output_type": "stream",
     "text": [
      "Enter the string : Hello! My name is Umesh\n",
      "Enter the index : 5\n",
      "The new string :  Hello My name is Umesh\n"
     ]
    }
   ],
   "source": [
    "# Removes character at index i\n",
    "def Remove(str, i): \n",
    "  \n",
    "    for j in range(len(str)):\n",
    "        if j == i:\n",
    "            str = str.replace(str[i], \"\", 1)\n",
    "    return str      \n",
    "\n",
    "str = input(\"Enter the string : \")\n",
    "i = int(input(\"Enter the index : \"))      \n",
    "\n",
    "# Print the new string\n",
    "\n",
    "print(\"The new string : \", Remove(str, i))"
   ]
  },
  {
   "cell_type": "markdown",
   "id": "732534e4",
   "metadata": {},
   "source": [
    "**Q.3.** Write a Python program to split and join a string?"
   ]
  },
  {
   "cell_type": "markdown",
   "id": "8d3ce4aa",
   "metadata": {},
   "source": [
    "**Answer :-**"
   ]
  },
  {
   "cell_type": "code",
   "execution_count": 3,
   "id": "ed4bea5b",
   "metadata": {},
   "outputs": [
    {
     "name": "stdout",
     "output_type": "stream",
     "text": [
      "Enter the string you need to split and join : This is split and join program\n",
      "['This', 'is', 'split', 'and', 'join', 'program']\n",
      "This-is-split-and-join-program\n"
     ]
    }
   ],
   "source": [
    "# Python program to split a string and join it using different delimiter\n",
    " \n",
    "def split_string(string):\n",
    " \n",
    "    # Split the string based on space delimiter\n",
    "    list_string = string.split(' ')\n",
    "     \n",
    "    return list_string\n",
    " \n",
    "def join_string(list_string):\n",
    " \n",
    "    # Join the string based on '-' delimiter\n",
    "    string = '-'.join(list_string)\n",
    "     \n",
    "    return string\n",
    " \n",
    "# Driver Function\n",
    "if __name__ == '__main__':\n",
    "    \n",
    "    string = input(\"Enter the string you need to split and join : \")\n",
    "     \n",
    "    # Splitting a string\n",
    "    \n",
    "    list_string = split_string(string)\n",
    "    print(list_string)\n",
    " \n",
    "     # Join list of strings into one\n",
    "    \n",
    "    new_string = join_string(list_string)\n",
    "    print(new_string)"
   ]
  },
  {
   "cell_type": "markdown",
   "id": "6398dae3",
   "metadata": {},
   "source": [
    "**Q.4.** Write a Python to check if a given string is binary string or not?"
   ]
  },
  {
   "cell_type": "markdown",
   "id": "cf33cf70",
   "metadata": {},
   "source": [
    "**Answer :-**"
   ]
  },
  {
   "cell_type": "code",
   "execution_count": 4,
   "id": "acae6088",
   "metadata": {},
   "outputs": [
    {
     "name": "stdout",
     "output_type": "stream",
     "text": [
      "Enter the string : Hello\n",
      "Not Binary\n"
     ]
    }
   ],
   "source": [
    "def CheckBinary(str):\n",
    "    binary = '01'\n",
    "    for i in range(len(str)):\n",
    "        if str[i] not in binary:\n",
    "            print('Not Binary')\n",
    "            break\n",
    "    else:\n",
    "        print('Its a Binary')\n",
    "        \n",
    "str = input(\"Enter the string : \")\n",
    "\n",
    "CheckBinary(str)"
   ]
  },
  {
   "cell_type": "markdown",
   "id": "a92d1979",
   "metadata": {},
   "source": [
    "**Q.5.** Write a Python program to find uncommon words from two Strings?"
   ]
  },
  {
   "cell_type": "markdown",
   "id": "042f3838",
   "metadata": {},
   "source": [
    "**Answer :-**"
   ]
  },
  {
   "cell_type": "code",
   "execution_count": 5,
   "id": "687daa60",
   "metadata": {},
   "outputs": [
    {
     "name": "stdout",
     "output_type": "stream",
     "text": [
      "Enter the string a : Hello! How are you\n",
      "Enter the string b : Hello! I'm fine\n",
      "The list of un Common words :   how are you i'm fine\n"
     ]
    }
   ],
   "source": [
    "def UnCommon(a, b):\n",
    "    list_a = a.split()\n",
    "    list_b = b.split()\n",
    "    UnCom =''\n",
    "    \n",
    "    for i in list_a:\n",
    "        if i not in list_b:\n",
    "            UnCom = UnCom +\" \"+ i\n",
    "    for j in list_b:\n",
    "        if j not in list_a:\n",
    "            UnCom = UnCom +\" \"+ j\n",
    "    return UnCom\n",
    "\n",
    "a = input(\"Enter the string a : \").lower()\n",
    "b = input(\"Enter the string b : \").lower()\n",
    "\n",
    "print(\"The list of un Common words : \", UnCommon(a, b))"
   ]
  },
  {
   "cell_type": "markdown",
   "id": "c1058736",
   "metadata": {},
   "source": [
    "**Q.6.** Write a Python to find all duplicate characters in string?"
   ]
  },
  {
   "cell_type": "markdown",
   "id": "373a1241",
   "metadata": {},
   "source": [
    "**Answer :-**"
   ]
  },
  {
   "cell_type": "code",
   "execution_count": 6,
   "id": "8b4cc0d4",
   "metadata": {},
   "outputs": [
    {
     "name": "stdout",
     "output_type": "stream",
     "text": [
      "Enter the string a : Hello! are you there\n",
      "['h', 'e', 'l', 'o', ' ', 'r']\n"
     ]
    }
   ],
   "source": [
    "def Duplicate():\n",
    "    \n",
    "    str = input(\"Enter the string a : \").lower()\n",
    "    duplicate = []\n",
    "    \n",
    "    for i in str:\n",
    "        if str.count(i) > 1 :\n",
    "            if i not in duplicate:\n",
    "                duplicate.append(i)\n",
    "                \n",
    "    print(duplicate)\n",
    "        \n",
    "Duplicate()"
   ]
  },
  {
   "cell_type": "markdown",
   "id": "c92c4d1c",
   "metadata": {},
   "source": [
    "**Q.7.** Write a Python Program to check if a string contains any special character?"
   ]
  },
  {
   "cell_type": "markdown",
   "id": "25cd340b",
   "metadata": {},
   "source": [
    "**Answer :-**"
   ]
  },
  {
   "cell_type": "code",
   "execution_count": 7,
   "id": "08b69164",
   "metadata": {},
   "outputs": [
    {
     "name": "stdout",
     "output_type": "stream",
     "text": [
      "Enter the string a : Pr@j@pat!\n",
      "String pr@j@pat! has Special Charecter/s : ['@', '@', '!']\n"
     ]
    }
   ],
   "source": [
    "import string\n",
    "\n",
    "def SpecialChar():\n",
    "    \n",
    "    string_char = string.punctuation\n",
    "    SpChar = []\n",
    "\n",
    "    str = input(\"Enter the string a : \").lower()\n",
    "\n",
    "    for i in str:\n",
    "        if i in string_char:\n",
    "            SpChar.append(i)\n",
    "        \n",
    "    if len(SpChar) > 0:\n",
    "        print(\"String {} has Special Charecter/s : {}\".format(str, SpChar))\n",
    "        \n",
    "    else:\n",
    "        print(\"String {} has No Special Charecter/s : {}\".format(str, SpChar))\n",
    "\n",
    "SpecialChar()"
   ]
  }
 ],
 "metadata": {
  "kernelspec": {
   "display_name": "Python 3",
   "language": "python",
   "name": "python3"
  },
  "language_info": {
   "codemirror_mode": {
    "name": "ipython",
    "version": 3
   },
   "file_extension": ".py",
   "mimetype": "text/x-python",
   "name": "python",
   "nbconvert_exporter": "python",
   "pygments_lexer": "ipython3",
   "version": "3.8.8"
  }
 },
 "nbformat": 4,
 "nbformat_minor": 5
}
