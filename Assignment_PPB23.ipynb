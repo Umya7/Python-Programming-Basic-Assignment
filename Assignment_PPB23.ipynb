{
 "cells": [
  {
   "cell_type": "markdown",
   "id": "9a350e2d",
   "metadata": {},
   "source": [
    "## Assignment 23"
   ]
  },
  {
   "cell_type": "markdown",
   "id": "fb80e2ed",
   "metadata": {},
   "source": [
    "**Q.1.** Create a function that takes a number as an argument and returns True or False depending\n",
    "on whether the number is symmetrical or not. A number is symmetrical when it is the same as\n",
    "its reverse.\n",
    "\n",
    "**Examples**\n",
    "\n",
    "is_symmetrical(7227) ➞ True\\\n",
    "is_symmetrical(12567) ➞ False\\\n",
    "is_symmetrical(44444444) ➞ True\\\n",
    "is_symmetrical(9939) ➞ False\\\n",
    "is_symmetrical(1112111) ➞ True"
   ]
  },
  {
   "cell_type": "markdown",
   "id": "660d48be",
   "metadata": {},
   "source": [
    "**Answer :-**"
   ]
  },
  {
   "cell_type": "code",
   "execution_count": 1,
   "id": "efb85a8e",
   "metadata": {},
   "outputs": [],
   "source": [
    "def is_symmetrical(num):\n",
    "    currentDigit = reversedDigit = 0\n",
    "    remainingNum = num\n",
    "    while(remainingNum != 0):\n",
    "\n",
    "        currentDigit = remainingNum % 10\n",
    "\n",
    "        reversedDigit = reversedDigit * 10 + currentDigit\n",
    "        print('Reveresed Digit :',reversedDigit)\n",
    "        remainingNum = remainingNum // 10\n",
    "\n",
    "    if reversedDigit == num:\n",
    "        print('Num {} is symmetrical'.format(num))\n",
    "    else:\n",
    "        print('Num {} is not symmetrical'.format(num))"
   ]
  },
  {
   "cell_type": "code",
   "execution_count": 2,
   "id": "717aab67",
   "metadata": {},
   "outputs": [
    {
     "name": "stdout",
     "output_type": "stream",
     "text": [
      "Reveresed Digit : 7\n",
      "Reveresed Digit : 72\n",
      "Reveresed Digit : 722\n",
      "Reveresed Digit : 7227\n",
      "Num 7227 is symmetrical\n"
     ]
    }
   ],
   "source": [
    "is_symmetrical(7227)"
   ]
  },
  {
   "cell_type": "markdown",
   "id": "adfa3714",
   "metadata": {},
   "source": [
    "**Q.2.** Given a string of numbers separated by a comma and space, return the product of the\n",
    "numbers.\n",
    "\n",
    "**Examples**\n",
    "\n",
    "multiply_nums(\"2, 3\") ➞ 6\\\n",
    "multiply_nums(\"1, 2, 3, 4\") ➞ 24\\\n",
    "multiply_nums(\"54, 75, 453, 0\") ➞ 0\\\n",
    "multiply_nums(\"10, -2\") ➞ -20"
   ]
  },
  {
   "cell_type": "markdown",
   "id": "d7561eb2",
   "metadata": {},
   "source": [
    "**Answer :-**"
   ]
  },
  {
   "cell_type": "code",
   "execution_count": 3,
   "id": "24a53eb2",
   "metadata": {},
   "outputs": [],
   "source": [
    "def multiply_nums(s):\n",
    "    s = s.replace(' ', \"\")\n",
    "    s = s.split(',')\n",
    "    sum = 1\n",
    "    for i in s:\n",
    "        sum = sum * int(i)\n",
    "    return sum"
   ]
  },
  {
   "cell_type": "code",
   "execution_count": 4,
   "id": "8abf6766",
   "metadata": {},
   "outputs": [
    {
     "data": {
      "text/plain": [
       "24"
      ]
     },
     "execution_count": 4,
     "metadata": {},
     "output_type": "execute_result"
    }
   ],
   "source": [
    "multiply_nums('1, 2, 3, 4')"
   ]
  },
  {
   "cell_type": "markdown",
   "id": "99594677",
   "metadata": {},
   "source": [
    "**Q.3.** Create a function that squares every digit of a number.\n",
    "\n",
    "**Examples**\n",
    "\n",
    "square_digits(9119) ➞ 811181\\\n",
    "square_digits(2483) ➞ 416649\\\n",
    "square_digits(3212) ➞ 9414\n",
    "\n",
    "**Notes**\n",
    "\n",
    "The function receives an integer and must return an integer."
   ]
  },
  {
   "cell_type": "markdown",
   "id": "4032b847",
   "metadata": {},
   "source": [
    "**Answer :-**"
   ]
  },
  {
   "cell_type": "code",
   "execution_count": 5,
   "id": "4cfefd24",
   "metadata": {},
   "outputs": [],
   "source": [
    "def square_digits(num):\n",
    "    \n",
    "    z = ''.join(str(int(i)**2) for i in str(num))\n",
    "    \n",
    "    return int(z)"
   ]
  },
  {
   "cell_type": "code",
   "execution_count": 6,
   "id": "cf841231",
   "metadata": {},
   "outputs": [
    {
     "data": {
      "text/plain": [
       "416649"
      ]
     },
     "execution_count": 6,
     "metadata": {},
     "output_type": "execute_result"
    }
   ],
   "source": [
    "square_digits(2483)"
   ]
  },
  {
   "cell_type": "markdown",
   "id": "1b63bd19",
   "metadata": {},
   "source": [
    "**Q.4.** Create a function that sorts a list and removes all duplicate items from it.\n",
    "\n",
    "**Examples**\n",
    "\n",
    "setify([1, 3, 3, 5, 5]) ➞ [1, 3, 5]\\\n",
    "setify([4, 4, 4, 4]) ➞ [4]\\\n",
    "setify([5, 7, 8, 9, 10, 15]) ➞ [5, 7, 8, 9, 10, 15]\\\n",
    "setify([3, 3, 3, 2, 1]) ➞ [1, 2, 3]"
   ]
  },
  {
   "cell_type": "markdown",
   "id": "060b6259",
   "metadata": {},
   "source": [
    "**Answer :-**"
   ]
  },
  {
   "cell_type": "code",
   "execution_count": 7,
   "id": "289c424e",
   "metadata": {},
   "outputs": [],
   "source": [
    "def setify(lst):\n",
    "    \n",
    "    return list(set(lst))"
   ]
  },
  {
   "cell_type": "code",
   "execution_count": 8,
   "id": "21d897ce",
   "metadata": {},
   "outputs": [
    {
     "data": {
      "text/plain": [
       "[1, 2, 3]"
      ]
     },
     "execution_count": 8,
     "metadata": {},
     "output_type": "execute_result"
    }
   ],
   "source": [
    "setify([3, 3, 3, 2, 1])"
   ]
  },
  {
   "cell_type": "markdown",
   "id": "366398a9",
   "metadata": {},
   "source": [
    "**Q.5.** Create a function that returns the mean of all digits.\n",
    "\n",
    "**Examples**\n",
    "\n",
    "mean(42) ➞ 3\\\n",
    "mean(12345) ➞ 3\\\n",
    "mean(666) ➞ 6\n",
    "\n",
    "**Notes**\n",
    "\n",
    "* The mean of all digits is the sum of digits / how many digits there are (e.g. mean of digits in\n",
    "512 is (5+1+2)/3(number of digits) = 8/3=2).\n",
    "* The mean will always be an integer."
   ]
  },
  {
   "cell_type": "markdown",
   "id": "42a02b08",
   "metadata": {},
   "source": [
    "**Answer :-**"
   ]
  },
  {
   "cell_type": "code",
   "execution_count": 9,
   "id": "0fabbce0",
   "metadata": {},
   "outputs": [],
   "source": [
    "def mean(n): \n",
    "    N = len(str(n)) \n",
    "    sum = mean = 0\n",
    "    \n",
    "    for digit in str(n):\n",
    "        sum += int(digit)       \n",
    "    return int(sum/N)"
   ]
  },
  {
   "cell_type": "code",
   "execution_count": 10,
   "id": "5c66c158",
   "metadata": {},
   "outputs": [
    {
     "data": {
      "text/plain": [
       "3"
      ]
     },
     "execution_count": 10,
     "metadata": {},
     "output_type": "execute_result"
    }
   ],
   "source": [
    "mean(42)"
   ]
  }
 ],
 "metadata": {
  "kernelspec": {
   "display_name": "Python 3",
   "language": "python",
   "name": "python3"
  },
  "language_info": {
   "codemirror_mode": {
    "name": "ipython",
    "version": 3
   },
   "file_extension": ".py",
   "mimetype": "text/x-python",
   "name": "python",
   "nbconvert_exporter": "python",
   "pygments_lexer": "ipython3",
   "version": "3.8.8"
  }
 },
 "nbformat": 4,
 "nbformat_minor": 5
}
