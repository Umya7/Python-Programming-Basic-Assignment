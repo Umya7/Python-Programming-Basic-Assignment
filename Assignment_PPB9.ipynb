{
 "cells": [
  {
   "cell_type": "markdown",
   "id": "ebb894f3",
   "metadata": {},
   "source": [
    "## Assignment 9"
   ]
  },
  {
   "cell_type": "markdown",
   "id": "4d5dd123",
   "metadata": {},
   "source": [
    "**Q.1.** Write a Python program to check if the given number is a Disarium Number?"
   ]
  },
  {
   "cell_type": "markdown",
   "id": "0b735cc4",
   "metadata": {},
   "source": [
    "**Answer :-**"
   ]
  },
  {
   "cell_type": "code",
   "execution_count": 1,
   "id": "9ef5a4de",
   "metadata": {},
   "outputs": [
    {
     "name": "stdout",
     "output_type": "stream",
     "text": [
      "Enter Positive Integer Value : 26\n",
      "A copy of the original number is being made...\n",
      "26 isn't a disarium number\n"
     ]
    }
   ],
   "source": [
    "##length_calculation() will count the digits present in a number  \n",
    "def length_calculation(num_val):\n",
    "    \"\"\"\n",
    "    This function will return the given number is a Disarium Number.\n",
    "    \"\"\"\n",
    "    length = 0\n",
    "    while(num_val != 0):\n",
    "        length = length + 1\n",
    "        num_val = num_val//10\n",
    "    return length\n",
    "my_num = int(input(\"Enter Positive Integer Value : \"))\n",
    "remaining = sum_val = 0\n",
    "len_val = length_calculation(my_num)\n",
    "print(\"A copy of the original number is being made...\")\n",
    "num_val = my_num\n",
    "\n",
    "#Calculates the sum of digits powered with their respective position\n",
    "while(my_num > 0):\n",
    "    remaining = my_num%10\n",
    "    sum_val = sum_val + int(remaining**len_val)\n",
    "    my_num = my_num//10\n",
    "    len_val = len_val - 1\n",
    "    \n",
    "#Checks whether the sum is equal to the number itself  \n",
    "if(sum_val == num_val):\n",
    "    print(str(num_val) + \" is a disarium number !\")\n",
    "else:\n",
    "    print(str(num_val) + \" isn't a disarium number\")"
   ]
  },
  {
   "cell_type": "markdown",
   "id": "53e2c6a8",
   "metadata": {},
   "source": [
    "**Q.2.** Write a Python program to print all disarium numbers between 1 to 100?"
   ]
  },
  {
   "cell_type": "markdown",
   "id": "3b1582ca",
   "metadata": {},
   "source": [
    "**Answer :-**"
   ]
  },
  {
   "cell_type": "code",
   "execution_count": 2,
   "id": "e6e2ed5e",
   "metadata": {},
   "outputs": [
    {
     "name": "stdout",
     "output_type": "stream",
     "text": [
      "Enter Starting Positive Integer Value : 1\n",
      "Enter Ending Positive Integer Value : 100\n",
      "Disarium numbers between 1 and 100 are\n",
      "1\n",
      "2\n",
      "3\n",
      "4\n",
      "5\n",
      "6\n",
      "7\n",
      "8\n",
      "9\n",
      "89\n"
     ]
    }
   ],
   "source": [
    "##length_calculation() will count the digits present in a number  \n",
    "def length_calculation(num_val):\n",
    "    \"\"\"\n",
    "    This function will return the given range is a Disarium Number.\n",
    "    \"\"\"\n",
    "    length = 0\n",
    "    while(num_val != 0):\n",
    "        length = length + 1\n",
    "        num_val = num_val//10\n",
    "    return length \n",
    "   \n",
    "#sumOfDigits() will calculates the sum of digits powered with their respective position  \n",
    "def sumOfDigits(num):  \n",
    "    rem = sum = 0\n",
    "    len = length_calculation(num)\n",
    "      \n",
    "    while(num > 0):  \n",
    "        rem = num%10\n",
    "        sum = sum + (rem**len)  \n",
    "        num = num//10 \n",
    "        len = len - 1 \n",
    "    return sum \n",
    "    \n",
    "result = 0 \n",
    "start = int(input(\"Enter Starting Positive Integer Value : \"))\n",
    "end = int(input(\"Enter Ending Positive Integer Value : \"))\n",
    "#Displays all disarium numbers between {start} and {end}  \n",
    "print(f\"Disarium numbers between {start} and {end} are\");  \n",
    "for i in range(start, end):  \n",
    "    result = sumOfDigits(i) \n",
    "      \n",
    "    if(result == i):  \n",
    "        print(i)"
   ]
  },
  {
   "cell_type": "markdown",
   "id": "415fee5b",
   "metadata": {},
   "source": [
    "**Q.3.** Write a Python program to check if the given number is Happy Number?"
   ]
  },
  {
   "cell_type": "markdown",
   "id": "687b152a",
   "metadata": {},
   "source": [
    "**Answer :-**"
   ]
  },
  {
   "cell_type": "code",
   "execution_count": 3,
   "id": "9863b803",
   "metadata": {},
   "outputs": [
    {
     "name": "stdout",
     "output_type": "stream",
     "text": [
      "Enter Positive Integer Value to check Happy Number : 12\n",
      "12 isn't a Happy Number\n"
     ]
    }
   ],
   "source": [
    "def Is_Happy_Num(my_num):\n",
    "    \"\"\"\n",
    "    This function will will chcek if given number is Happy Number.\n",
    "    \"\"\"\n",
    "    remaining = sum_val = 0\n",
    "    while(my_num > 0):\n",
    "        remaining = my_num%10\n",
    "        sum_val = sum_val + (remaining*remaining)\n",
    "        my_num = my_num//10\n",
    "    return sum_val;\n",
    "\n",
    "my_num = int(input(\"Enter Positive Integer Value to check Happy Number : \"))\n",
    "my_result = my_num\n",
    "\n",
    "while(my_result != 1 and my_result != 4):\n",
    "    my_result = Is_Happy_Num(my_result)\n",
    "    #print(\"The number is being checked\")\n",
    "if(my_result == 1):\n",
    "    print(str(my_num) + \" is a Happy Number\");\n",
    "elif(my_result == 4):\n",
    "    print(str(my_num) + \" isn't a Happy Number\");"
   ]
  },
  {
   "cell_type": "markdown",
   "id": "9d2b8c6a",
   "metadata": {},
   "source": [
    "**Q.4.** Write a Python program to print all happy numbers between 1 and 100?"
   ]
  },
  {
   "cell_type": "markdown",
   "id": "f6fef273",
   "metadata": {},
   "source": [
    "**Answer :-**"
   ]
  },
  {
   "cell_type": "code",
   "execution_count": 4,
   "id": "8d44e8b5",
   "metadata": {},
   "outputs": [
    {
     "name": "stdout",
     "output_type": "stream",
     "text": [
      "Enter Starting Positive Integer Value : 1\n",
      "Enter Ending Positive Integer Value : 100\n",
      "The list of happy numbers between 1 and 100 are : \n",
      "1\n",
      "7\n",
      "10\n",
      "13\n",
      "19\n",
      "23\n",
      "28\n",
      "31\n",
      "32\n",
      "44\n",
      "49\n",
      "68\n",
      "70\n",
      "79\n",
      "82\n",
      "86\n",
      "91\n",
      "94\n",
      "97\n"
     ]
    }
   ],
   "source": [
    "def Is_Happy_Num(my_num):\n",
    "    \"\"\"\n",
    "    This function will check if given range is a Happy Number.\n",
    "    \"\"\"\n",
    "    remaining = sum_val = 0\n",
    "    while(my_num > 0):\n",
    "        remaining = my_num%10\n",
    "        sum_val = sum_val + (remaining*remaining)\n",
    "        my_num = my_num//10\n",
    "    return sum_val\n",
    "\n",
    "start = int(input(\"Enter Starting Positive Integer Value : \"))\n",
    "end = int(input(\"Enter Ending Positive Integer Value : \"))\n",
    "print(f\"The list of happy numbers between {start} and {end} are : \")\n",
    "for i in range(start, end):\n",
    "    my_result = i\n",
    "    while(my_result != 1 and my_result != 4):\n",
    "        my_result = Is_Happy_Num(my_result)\n",
    "    if(my_result == 1):\n",
    "        print(i)"
   ]
  },
  {
   "cell_type": "markdown",
   "id": "e207764e",
   "metadata": {},
   "source": [
    "**Q.5.** Write a Python program to determine whether the given number is a Harshad Number?"
   ]
  },
  {
   "cell_type": "markdown",
   "id": "e57b8aae",
   "metadata": {},
   "source": [
    "**Answer :-**"
   ]
  },
  {
   "cell_type": "code",
   "execution_count": 5,
   "id": "4a3e4f56",
   "metadata": {},
   "outputs": [
    {
     "name": "stdout",
     "output_type": "stream",
     "text": [
      "Enter Positive Integer Value : 22\n",
      "22 is not a Harshad Number!!!\n"
     ]
    }
   ],
   "source": [
    "num = int(input(\"Enter Positive Integer Value : \"))   \n",
    "def Harshad_Num(num):\n",
    "    \n",
    "    digit = sum = 0\n",
    "    temp = num \n",
    "# Calculates sum of digits    \n",
    "    while(temp > 0):\n",
    "        digit = temp % 10\n",
    "        sum = sum + digit    \n",
    "        temp = temp // 10\n",
    "\n",
    "# Checks whether the number is divisible by the sum of digits    \n",
    "    if num % sum == 0:    \n",
    "        print(num, \"is a Harshad Number!!!\")    \n",
    "    else:    \n",
    "        print(num, \"is not a Harshad Number!!!\")\n",
    "        \n",
    "Harshad_Num(num)"
   ]
  },
  {
   "cell_type": "markdown",
   "id": "bb655af3",
   "metadata": {},
   "source": [
    "**Q.6.** Write a Python program to print all pronic numbers between 1 and 100?"
   ]
  },
  {
   "cell_type": "markdown",
   "id": "52f10165",
   "metadata": {},
   "source": [
    "**Answer :-**"
   ]
  },
  {
   "cell_type": "code",
   "execution_count": 6,
   "id": "41d2f9d1",
   "metadata": {},
   "outputs": [
    {
     "name": "stdout",
     "output_type": "stream",
     "text": [
      "Enter Starting Positive Integer Value : 1\n",
      "Enter Ending Positive Integer Value : 100\n",
      "Pronic numbers between 1 and 100 : \n",
      "2\n",
      "6\n",
      "12\n",
      "20\n",
      "30\n",
      "42\n",
      "56\n",
      "72\n",
      "90\n"
     ]
    }
   ],
   "source": [
    "#isPronicNumber() will determine whether a given number is a pronic number or not\n",
    "def Pronic_Number(num):\n",
    "    flag = False\n",
    "    \n",
    "    for j in range(1, num+1):\n",
    "        #Checks for pronic number by multiplying consecutive numbers\n",
    "        if((j*(j+1)) == num):\n",
    "            flag = True\n",
    "            break\n",
    "    return flag\n",
    "\n",
    "start = int(input(\"Enter Starting Positive Integer Value : \"))\n",
    "end = int(input(\"Enter Ending Positive Integer Value : \"))\n",
    "#Displays all pronic numbers between {start} and {end}\n",
    "print(f\"Pronic numbers between {start} and {end} : \")\n",
    "for i in range(start, end):\n",
    "    if(Pronic_Number(i)):\n",
    "        print(i)"
   ]
  }
 ],
 "metadata": {
  "kernelspec": {
   "display_name": "Python 3",
   "language": "python",
   "name": "python3"
  },
  "language_info": {
   "codemirror_mode": {
    "name": "ipython",
    "version": 3
   },
   "file_extension": ".py",
   "mimetype": "text/x-python",
   "name": "python",
   "nbconvert_exporter": "python",
   "pygments_lexer": "ipython3",
   "version": "3.8.8"
  }
 },
 "nbformat": 4,
 "nbformat_minor": 5
}
