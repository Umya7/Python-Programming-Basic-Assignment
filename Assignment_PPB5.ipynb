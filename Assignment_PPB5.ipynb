{
 "cells": [
  {
   "cell_type": "markdown",
   "id": "78a5d1ef",
   "metadata": {},
   "source": [
    "## Assignment 5"
   ]
  },
  {
   "cell_type": "markdown",
   "id": "eca81462",
   "metadata": {},
   "source": [
    "**Q.1.** Write a Python Program to Find LCM?"
   ]
  },
  {
   "cell_type": "markdown",
   "id": "9d4653ac",
   "metadata": {},
   "source": [
    "**Answer :-**"
   ]
  },
  {
   "cell_type": "code",
   "execution_count": 1,
   "id": "455eca07",
   "metadata": {},
   "outputs": [
    {
     "name": "stdout",
     "output_type": "stream",
     "text": [
      "Enter 1st Number : 22\n",
      "Enter 2nd Number : 62\n",
      "\n",
      "The L.C.M of 22 and 62 is 682.\n"
     ]
    }
   ],
   "source": [
    "def LCM(Num1, Num2):\n",
    "    '''\n",
    "    This function will compute the L.C.M of two Numbers\n",
    "    '''\n",
    "    if Num1 > Num2:\n",
    "        Greater = Num1\n",
    "    else:\n",
    "        Greater = Num2\n",
    "        \n",
    "    while True:\n",
    "        if Greater % Num1 == 0 and Greater % Num2 == 0:\n",
    "            LCM = Greater\n",
    "            break\n",
    "        Greater += 1\n",
    "    return LCM\n",
    "\n",
    "Num1 = int(input(\"Enter 1st Number : \"))\n",
    "Num2 = int(input(\"Enter 2nd Number : \"))\n",
    "print(\"\\nThe L.C.M of {} and {} is {}.\".format(Num1, Num2, LCM(Num1, Num2)))"
   ]
  },
  {
   "cell_type": "markdown",
   "id": "ac310b8d",
   "metadata": {},
   "source": [
    "**Q.2.** Write a Python Program to Find HCF?"
   ]
  },
  {
   "cell_type": "markdown",
   "id": "d16902a0",
   "metadata": {},
   "source": [
    "**Answer :-**"
   ]
  },
  {
   "cell_type": "code",
   "execution_count": 2,
   "id": "f9c47e03",
   "metadata": {},
   "outputs": [
    {
     "name": "stdout",
     "output_type": "stream",
     "text": [
      "Enter 1st Number : 24\n",
      "Enter 2nd Number : 64\n",
      "\n",
      "The H.C.F of 24 and 64 is 8.\n"
     ]
    }
   ],
   "source": [
    "def HCF(Num1, Num2):\n",
    "    '''\n",
    "    This function will compute the H.C.F of two Numbers\n",
    "    '''\n",
    "    if Num1 < Num2:\n",
    "        Smaller = Num1\n",
    "    else:\n",
    "        Smaller = Num2\n",
    "        \n",
    "    for i in range(1, Smaller+1):\n",
    "        if Num1 % i == 0 and Num2 % i == 0:\n",
    "            HCF = i\n",
    "    return HCF\n",
    "        \n",
    "Num1 = int(input(\"Enter 1st Number : \"))\n",
    "Num2 = int(input(\"Enter 2nd Number : \"))\n",
    "print(\"\\nThe H.C.F of {} and {} is {}.\".format(Num1, Num2, HCF(Num1, Num2)))"
   ]
  },
  {
   "cell_type": "markdown",
   "id": "bade3441",
   "metadata": {},
   "source": [
    "**Q.3.** Write a Python Program to Convert Decimal to Binary, Octal and Hexadecimal?"
   ]
  },
  {
   "cell_type": "markdown",
   "id": "900b95a4",
   "metadata": {},
   "source": [
    "**Answer :-**"
   ]
  },
  {
   "cell_type": "code",
   "execution_count": 3,
   "id": "8434a41f",
   "metadata": {},
   "outputs": [
    {
     "name": "stdout",
     "output_type": "stream",
     "text": [
      "Enter the Number : 7\n",
      "\n",
      "7 in Binary is 0b111.\n",
      "7 in Octal is 0o7.\n",
      "7 in Hexadecimal is 0x7.\n"
     ]
    }
   ],
   "source": [
    "def decimal_to_others(Number):\n",
    "    \"\"\"\n",
    "    This function will convert and print Decimal value to Binary, Octal and Hexadecimal\n",
    "    \"\"\"\n",
    "    print(\"\\n{} in Binary is {}.\".format(Number, bin(Number)))\n",
    "    print(\"{} in Octal is {}.\".format(Number, oct(Number)))\n",
    "    print(\"{} in Hexadecimal is {}.\".format(Number, hex(Number)))\n",
    "    \n",
    "    return\n",
    "\n",
    "Number = int(input(\"Enter the Number : \"))\n",
    "decimal_to_others(Number)"
   ]
  },
  {
   "cell_type": "markdown",
   "id": "d1d60b5c",
   "metadata": {},
   "source": [
    "**Q.4.** Write a Python Program To Find ASCII value of a character?"
   ]
  },
  {
   "cell_type": "markdown",
   "id": "e7d2fe94",
   "metadata": {},
   "source": [
    "**Answer :-**"
   ]
  },
  {
   "cell_type": "code",
   "execution_count": 4,
   "id": "67b07230",
   "metadata": {},
   "outputs": [
    {
     "name": "stdout",
     "output_type": "stream",
     "text": [
      "Enter any character: u\n",
      "\n",
      "The ASCII value of u is 117.\n"
     ]
    }
   ],
   "source": [
    "def char_to_ASCII(char):\n",
    "    \n",
    "    \"\"\"\n",
    "    This function will print the ASCII value of any character.\n",
    "    \"\"\"\n",
    "    print(\"\\nThe ASCII value of {} is {}.\".format(char,ord(char)))\n",
    "    \n",
    "    return\n",
    "\n",
    "while True:\n",
    "    char = input(\"Enter any character: \")\n",
    "    if len(char) > 1 or len(char) == 0:\n",
    "        continue\n",
    "    else:\n",
    "        break\n",
    "char_to_ASCII(char)"
   ]
  },
  {
   "cell_type": "markdown",
   "id": "8eb14daa",
   "metadata": {},
   "source": [
    "**Q.5.** Write a Python Program to Make a Simple Calculator with 4 basic mathematical operations?"
   ]
  },
  {
   "cell_type": "markdown",
   "id": "99058550",
   "metadata": {},
   "source": [
    "**Answer :-**"
   ]
  },
  {
   "cell_type": "code",
   "execution_count": 5,
   "id": "7393c89f",
   "metadata": {},
   "outputs": [
    {
     "name": "stdout",
     "output_type": "stream",
     "text": [
      "Select operation.\n",
      "1.Add\n",
      "2.Subtract\n",
      "3.Multiply\n",
      "4.Divide\n",
      "Enter choice(1/2/3/4): 1\n",
      "Enter first number: 2\n",
      "Enter second number: 6\n",
      "2.0 + 6.0 = 8.0\n",
      "Let's do next calculation? (yes/no): yes\n",
      "Enter choice(1/2/3/4): 2\n",
      "Enter first number: 6\n",
      "Enter second number: 4\n",
      "6.0 - 4.0 = 2.0\n",
      "Let's do next calculation? (yes/no): yes\n",
      "Enter choice(1/2/3/4): 3\n",
      "Enter first number: 2\n",
      "Enter second number: 6\n",
      "2.0 * 6.0 = 12.0\n",
      "Let's do next calculation? (yes/no): yes\n",
      "Enter choice(1/2/3/4): 4\n",
      "Enter first number: 24\n",
      "Enter second number: 6\n",
      "24.0 / 6.0 = 4.0\n",
      "Let's do next calculation? (yes/no): no\n"
     ]
    }
   ],
   "source": [
    "# This function adds two numbers\n",
    "def Add(Num1, Num2):\n",
    "    \n",
    "    Addition = Num1 + Num2\n",
    "    return Addition\n",
    "\n",
    "# This function subtracts two numbers\n",
    "def Subtract(Num1, Num2):\n",
    "    \n",
    "    Subtraction = Num1 - Num2\n",
    "    return Subtraction\n",
    "\n",
    "# This function multiplies two numbers\n",
    "def Multiply(Num1, Num2):\n",
    "    \n",
    "    Multiplication = Num1 * Num2\n",
    "    return Multiplication\n",
    "\n",
    "# This function divides two numbers\n",
    "def Divide(Num1, Num2):\n",
    "    \n",
    "    Division = Num1 / Num2\n",
    "    return Division\n",
    "\n",
    "\n",
    "print(\"Select operation.\")\n",
    "print(\"1.Add\")\n",
    "print(\"2.Subtract\")\n",
    "print(\"3.Multiply\")\n",
    "print(\"4.Divide\")\n",
    "\n",
    "while True:\n",
    "    # take input from the user\n",
    "    choice = input(\"Enter choice(1/2/3/4): \")\n",
    "\n",
    "    # check if choice is one of the four options\n",
    "    if choice in ('1', '2', '3', '4'):\n",
    "        num1 = float(input(\"Enter first number: \"))\n",
    "        num2 = float(input(\"Enter second number: \"))\n",
    "\n",
    "        if choice == '1':\n",
    "            print(num1, \"+\", num2, \"=\", Add(num1, num2))\n",
    "\n",
    "        elif choice == '2':\n",
    "            print(num1, \"-\", num2, \"=\", Subtract(num1, num2))\n",
    "\n",
    "        elif choice == '3':\n",
    "            print(num1, \"*\", num2, \"=\", Multiply(num1, num2))\n",
    "\n",
    "        elif choice == '4':\n",
    "            print(num1, \"/\", num2, \"=\", Divide(num1, num2))\n",
    "        \n",
    "        # check if user wants another calculation\n",
    "        # break the while loop if answer is no\n",
    "        next_calculation = input(\"Let's do next calculation? (yes/no): \")\n",
    "        if next_calculation == \"no\":\n",
    "            break\n",
    "    \n",
    "    else:\n",
    "        print(\"Invalid Input\")"
   ]
  }
 ],
 "metadata": {
  "kernelspec": {
   "display_name": "Python 3",
   "language": "python",
   "name": "python3"
  },
  "language_info": {
   "codemirror_mode": {
    "name": "ipython",
    "version": 3
   },
   "file_extension": ".py",
   "mimetype": "text/x-python",
   "name": "python",
   "nbconvert_exporter": "python",
   "pygments_lexer": "ipython3",
   "version": "3.8.8"
  }
 },
 "nbformat": 4,
 "nbformat_minor": 5
}
