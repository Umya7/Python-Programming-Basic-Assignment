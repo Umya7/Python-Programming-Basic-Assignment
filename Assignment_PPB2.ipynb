{
 "cells": [
  {
   "cell_type": "markdown",
   "id": "ae5731dd",
   "metadata": {},
   "source": [
    "## Assignment 2"
   ]
  },
  {
   "cell_type": "markdown",
   "id": "a20f9497",
   "metadata": {},
   "source": [
    "**Q.1.** Write a Python program to convert kilometers to miles?"
   ]
  },
  {
   "cell_type": "markdown",
   "id": "63d04318",
   "metadata": {},
   "source": [
    "**Answer :-**"
   ]
  },
  {
   "cell_type": "code",
   "execution_count": 1,
   "id": "aa4413b9",
   "metadata": {},
   "outputs": [
    {
     "name": "stdout",
     "output_type": "stream",
     "text": [
      "Enter value in Kilometers is : 12\n",
      "12.00 Kilometers is equal to 7.46 miles\n"
     ]
    }
   ],
   "source": [
    "kms = float(input('Enter value in Kilometers is : '))\n",
    "conv_fac = 0.621371\n",
    "miles = kms * conv_fac\n",
    "\n",
    "print('%0.2f Kilometers is equal to %0.2f miles' %(kms, miles))"
   ]
  },
  {
   "cell_type": "markdown",
   "id": "6425a02b",
   "metadata": {},
   "source": [
    "**Q.2.** Write a Python program to convert Celsius to Fahrenheit?"
   ]
  },
  {
   "cell_type": "markdown",
   "id": "cda7736a",
   "metadata": {},
   "source": [
    "**Answer :-**"
   ]
  },
  {
   "cell_type": "code",
   "execution_count": 2,
   "id": "79b27ab1",
   "metadata": {},
   "outputs": [
    {
     "name": "stdout",
     "output_type": "stream",
     "text": [
      "Enter value in Celsius is : 31.2\n",
      "31.2 degree Celsius is equal to 88.2 degree farhenheit\n"
     ]
    }
   ],
   "source": [
    "celsius = float(input('Enter value in Celsius is : '))\n",
    "farhenheit = (celsius * 1.8) + 32\n",
    "\n",
    "print('%0.1f degree Celsius is equal to %0.1f degree farhenheit' %(celsius, farhenheit))"
   ]
  },
  {
   "cell_type": "markdown",
   "id": "3075d5e4",
   "metadata": {},
   "source": [
    "**Q.3.** Write a Python program to display calendar?"
   ]
  },
  {
   "cell_type": "markdown",
   "id": "e8e06ecc",
   "metadata": {},
   "source": [
    "**Answer :-**"
   ]
  },
  {
   "cell_type": "code",
   "execution_count": 3,
   "id": "a84219a4",
   "metadata": {},
   "outputs": [
    {
     "name": "stdout",
     "output_type": "stream",
     "text": [
      "Enter vaild Year : 1996\n",
      "Enter vaild Month : 08\n",
      "    August 1996\n",
      "Mo Tu We Th Fr Sa Su\n",
      "          1  2  3  4\n",
      " 5  6  7  8  9 10 11\n",
      "12 13 14 15 16 17 18\n",
      "19 20 21 22 23 24 25\n",
      "26 27 28 29 30 31\n",
      "\n"
     ]
    }
   ],
   "source": [
    "import calendar\n",
    "\n",
    "yy = int(input('Enter vaild Year : '))\n",
    "mm = int(input('Enter vaild Month : '))\n",
    "\n",
    "print(calendar.month(yy,mm))"
   ]
  },
  {
   "cell_type": "markdown",
   "id": "ce0fd8ca",
   "metadata": {},
   "source": [
    "**Q.4.** Write a Python program to solve quadratic equation?"
   ]
  },
  {
   "cell_type": "markdown",
   "id": "78be968d",
   "metadata": {},
   "source": [
    "**Answer :-**"
   ]
  },
  {
   "cell_type": "code",
   "execution_count": 4,
   "id": "8c1dcc65",
   "metadata": {},
   "outputs": [
    {
     "name": "stdout",
     "output_type": "stream",
     "text": [
      "The solution are (-1.5-1.6583123951777j) and (-1.5+1.6583123951777j)\n"
     ]
    }
   ],
   "source": [
    "import cmath\n",
    "\n",
    "a = 1\n",
    "b = 3\n",
    "c = 5\n",
    "\n",
    "# calculate the discriminant\n",
    "d = (b**2) - (4*a*c)\n",
    "\n",
    "# find two solutions\n",
    "sol1 = (-b-cmath.sqrt(d))/(2*a)\n",
    "sol2 = (-b+cmath.sqrt(d))/(2*a)\n",
    "\n",
    "print('The solution are {0} and {1}'.format(sol1,sol2))"
   ]
  },
  {
   "cell_type": "markdown",
   "id": "0016d4d3",
   "metadata": {},
   "source": [
    "**Q.5.** Write a Python program to swap two variables without temp variable?"
   ]
  },
  {
   "cell_type": "markdown",
   "id": "843be3f9",
   "metadata": {},
   "source": [
    "**Answer :-**"
   ]
  },
  {
   "cell_type": "code",
   "execution_count": 5,
   "id": "1791c1d9",
   "metadata": {},
   "outputs": [
    {
     "name": "stdout",
     "output_type": "stream",
     "text": [
      "Enter a value for x is : 11\n",
      "Enter a value for y is : 9\n",
      "Before swapping the value is : \n",
      "Value of x is :  11 and y is :  9\n",
      "After swapping the value is : \n",
      "Value of x is :  9 and y is :  11\n"
     ]
    }
   ],
   "source": [
    "x = input(\"Enter a value for x is : \")\n",
    "y = input(\"Enter a value for y is : \")\n",
    "\n",
    "print('Before swapping the value is : ')\n",
    "print('Value of x is : ', x, 'and y is : ',y)\n",
    "\n",
    "x, y = y, x\n",
    "\n",
    "print('After swapping the value is : ')\n",
    "print('Value of x is : ', x, 'and y is : ',y)"
   ]
  }
 ],
 "metadata": {
  "kernelspec": {
   "display_name": "Python 3",
   "language": "python",
   "name": "python3"
  },
  "language_info": {
   "codemirror_mode": {
    "name": "ipython",
    "version": 3
   },
   "file_extension": ".py",
   "mimetype": "text/x-python",
   "name": "python",
   "nbconvert_exporter": "python",
   "pygments_lexer": "ipython3",
   "version": "3.8.8"
  }
 },
 "nbformat": 4,
 "nbformat_minor": 5
}
