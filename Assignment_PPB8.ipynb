{
 "cells": [
  {
   "cell_type": "markdown",
   "id": "fb219074",
   "metadata": {},
   "source": [
    "## Assignment 8"
   ]
  },
  {
   "cell_type": "markdown",
   "id": "dc0461bf",
   "metadata": {},
   "source": [
    "**Q.1.** Write a Python Program to Add Two Matrices?"
   ]
  },
  {
   "cell_type": "markdown",
   "id": "be26e841",
   "metadata": {},
   "source": [
    "**Answer :-**"
   ]
  },
  {
   "cell_type": "code",
   "execution_count": 1,
   "id": "894a9ce0",
   "metadata": {},
   "outputs": [
    {
     "name": "stdout",
     "output_type": "stream",
     "text": [
      "Enter number of rows: 2\n",
      "Enter number of columns: 2\n",
      "\n",
      "\n",
      "Element[0][0] for Matrix1: 1\n",
      "Element[0][1] for Matrix1: 2\n",
      "Element[1][0] for Matrix1: 3\n",
      "Element[1][1] for Matrix1: 4\n",
      "\n",
      "\n",
      "Element[0][0] for Matrix2: 4\n",
      "Element[0][1] for Matrix2: 3\n",
      "Element[1][0] for Matrix2: 2\n",
      "Element[1][1] for Matrix2: 1\n",
      "\n",
      "Matrix1: \n",
      "[1, 2]\n",
      "[3, 4]\n",
      "\n",
      "Matrix2: \n",
      "[4, 3]\n",
      "[2, 1]\n",
      "\n",
      "Addition of matrix1 and matrix2: \n",
      "[5, 5]\n",
      "[5, 5]\n"
     ]
    }
   ],
   "source": [
    "def Add_2_Matrices(matrix1, matrix2):\n",
    "    \"\"\"\n",
    "    This function will return the the addition of two matrices\n",
    "    \"\"\"\n",
    "    result = [[0 for _ in range(len(matrix1[0]))] for _ in range(len(matrix1))]\n",
    "        \n",
    "    for i in range(len(matrix1)):\n",
    "        for j in range(len(matrix2)):\n",
    "            result[i][j] = matrix1[i][j] + matrix2[i][j]\n",
    "        \n",
    "    return result  \n",
    "\n",
    "rows = int(input(\"Enter number of rows: \"))\n",
    "columns = int(input(\"Enter number of columns: \"))\n",
    "    \n",
    "print(\"\\n\")\n",
    "matrix1 = [[int(input(f\"Element[{i}][{j}] for Matrix1: \")) for j in range(columns)] for i in range(rows)]\n",
    "    \n",
    "print(\"\\n\")\n",
    "matrix2 = [[int(input(f\"Element[{i}][{j}] for Matrix2: \")) for j in range(columns)] for i in range(rows)]\n",
    "    \n",
    "print(\"\\nMatrix1: \")\n",
    "for row in matrix1:\n",
    "    print(row)\n",
    "    \n",
    "print(\"\\nMatrix2: \")\n",
    "for row in matrix2:\n",
    "    print(row)\n",
    "        \n",
    "result = Add_2_Matrices(matrix1, matrix2)\n",
    "    \n",
    "print(\"\\nAddition of matrix1 and matrix2: \")\n",
    "for row in result:\n",
    "    print(row)"
   ]
  },
  {
   "cell_type": "markdown",
   "id": "9e32b902",
   "metadata": {},
   "source": [
    "**Q.2.** Write a Python Program to Multiply Two Matrices?"
   ]
  },
  {
   "cell_type": "markdown",
   "id": "1093f078",
   "metadata": {},
   "source": [
    "**Answer :-**"
   ]
  },
  {
   "cell_type": "code",
   "execution_count": 2,
   "id": "03b32258",
   "metadata": {},
   "outputs": [
    {
     "name": "stdout",
     "output_type": "stream",
     "text": [
      "Enter number of rows for Matrix1: 2\n",
      "Enter number of columns for Matrix1: 2\n",
      "\n",
      "\n",
      "Element[0][0] for Matrix1: 1\n",
      "Element[0][1] for Matrix1: 2\n",
      "Element[1][0] for Matrix1: 3\n",
      "Element[1][1] for Matrix1: 4\n",
      "\n",
      "Enter number of rows for Matrix2: 2\n",
      "Enter number of columns for Matrix2: 2\n",
      "\n",
      "\n",
      "Element[0][0] for Matrix1: 4\n",
      "Element[0][1] for Matrix1: 3\n",
      "Element[1][0] for Matrix1: 2\n",
      "Element[1][1] for Matrix1: 1\n",
      "\n",
      "Matrix1: \n",
      "[1, 2]\n",
      "[3, 4]\n",
      "\n",
      "Matrix2: \n",
      "[4, 3]\n",
      "[2, 1]\n",
      "\n",
      "Multiplication of Matrix1 and Matrix2: \n",
      "[8, 5]\n",
      "[20, 13]\n"
     ]
    }
   ],
   "source": [
    "def Multiply_2_Matrices(matrix1, matrix2):\n",
    "    \"\"\"\n",
    "    This function will return the multiplication of two matrices\n",
    "    \"\"\"\n",
    "    result = [[sum(a*b for a,b in zip(m1_row, m2_col)) for m2_col in zip(*matrix2)] for m1_row in matrix1]\n",
    "    return result\n",
    "\n",
    "row1 = int(input(\"Enter number of rows for Matrix1: \"))\n",
    "column1 = int(input(\"Enter number of columns for Matrix1: \"))\n",
    "    \n",
    "print(\"\\n\")\n",
    "matrix1 = [[int(input(f\"Element[{i}][{j}] for Matrix1: \")) for j in range(column1)] for i in range(row1)]\n",
    "    \n",
    "row2 = int(input(\"\\nEnter number of rows for Matrix2: \"))\n",
    "column2 = int(input(\"Enter number of columns for Matrix2: \"))\n",
    "    \n",
    "print(\"\\n\")\n",
    "matrix2 = [[int(input(f\"Element[{i}][{j}] for Matrix1: \")) for j in range(column2)] for i in range(row2)]\n",
    "    \n",
    "print(\"\\nMatrix1: \")\n",
    "for row in matrix1:\n",
    "    print(row)\n",
    "        \n",
    "print(\"\\nMatrix2: \")\n",
    "for row in matrix2:\n",
    "    print(row)\n",
    "        \n",
    "if column1 == row2:\n",
    "    result = Multiply_2_Matrices(matrix1, matrix2)\n",
    "        \n",
    "    print(\"\\nMultiplication of Matrix1 and Matrix2: \")\n",
    "    for row in result:\n",
    "        print(row)\n",
    "else:\n",
    "    print(\"\\nMultiplication not possible..!!\")"
   ]
  },
  {
   "cell_type": "markdown",
   "id": "75d4a45f",
   "metadata": {},
   "source": [
    "**Q.3.** Write a Python Program to Transpose a Matrix?"
   ]
  },
  {
   "cell_type": "markdown",
   "id": "e650d5d9",
   "metadata": {},
   "source": [
    "**Answer :-**"
   ]
  },
  {
   "cell_type": "code",
   "execution_count": 3,
   "id": "8745465e",
   "metadata": {},
   "outputs": [
    {
     "name": "stdout",
     "output_type": "stream",
     "text": [
      "Enter number of rows: 2\n",
      "Enter number of columns: 3\n",
      "\n",
      "\n",
      "Element[0][0] for Matrix1: 1\n",
      "Element[0][1] for Matrix1: 2\n",
      "Element[0][2] for Matrix1: 3\n",
      "Element[1][0] for Matrix1: 4\n",
      "Element[1][1] for Matrix1: 5\n",
      "Element[1][2] for Matrix1: 6\n",
      "\n",
      "Original Matrix: \n",
      "[1, 2, 3]\n",
      "[4, 5, 6]\n",
      "\n",
      "Transpose of Matrix: \n",
      "[1, 4]\n",
      "[2, 5]\n",
      "[3, 6]\n"
     ]
    }
   ],
   "source": [
    "def Transpose_Matrix(matrix):\n",
    "    \"\"\"\n",
    "    This function will return the transpose of a matrix\n",
    "    \"\"\"\n",
    "    result = [[matrix[rows][cols] for rows in range(len(matrix))] for cols in range(len(matrix[0]))]\n",
    "    return result        \n",
    "\n",
    "rows = int(input(\"Enter number of rows: \"))\n",
    "columns = int(input(\"Enter number of columns: \"))\n",
    "    \n",
    "print(\"\\n\")\n",
    "matrix = [[int(input(f\"Element[{i}][{j}] for Matrix1: \")) for j in range(columns)] for i in range(rows)]\n",
    "    \n",
    "print(\"\\nOriginal Matrix: \")\n",
    "for row in matrix:\n",
    "    print(row)\n",
    "        \n",
    "result = Transpose_Matrix(matrix)\n",
    "    \n",
    "print(\"\\nTranspose of Matrix: \")\n",
    "for row in result:\n",
    "    print(row)"
   ]
  },
  {
   "cell_type": "markdown",
   "id": "87c6588e",
   "metadata": {},
   "source": [
    "**Q.4.** Write a Python Program to Sort Words in Alphabetic Order?"
   ]
  },
  {
   "cell_type": "markdown",
   "id": "7247749d",
   "metadata": {},
   "source": [
    "**Answer :-**"
   ]
  },
  {
   "cell_type": "code",
   "execution_count": 4,
   "id": "d19a123d",
   "metadata": {},
   "outputs": [
    {
     "name": "stdout",
     "output_type": "stream",
     "text": [
      "Enter the string : Hi Hello There!!\n",
      "\n",
      "Original String: \n",
      "Hi Hello There!!\n",
      "\n",
      "After Sorting : \n",
      "\n",
      "hello\n",
      "hi\n",
      "there!!\n"
     ]
    }
   ],
   "source": [
    "def Sort_Words(string):\n",
    "    \n",
    "    \"\"\"\n",
    "    This function will sort words in alphabetic order and return list of words\n",
    "    \"\"\"\n",
    "    words = [word.lower() for word in string.split()]\n",
    "    words.sort()\n",
    "    return words\n",
    "\n",
    "string = input(\"Enter the string : \")\n",
    "print(\"\\nOriginal String: \\n\" + string)\n",
    "    \n",
    "result = Sort_Words(string)\n",
    "print(\"\\nAfter Sorting : \\n\")\n",
    "for word in result:\n",
    "    print(word)"
   ]
  },
  {
   "cell_type": "markdown",
   "id": "d92c9cdd",
   "metadata": {},
   "source": [
    "**Q.5.** Write a Python Program to Remove Punctuation From a String?"
   ]
  },
  {
   "cell_type": "markdown",
   "id": "7777b071",
   "metadata": {},
   "source": [
    "**Answer :-**"
   ]
  },
  {
   "cell_type": "code",
   "execution_count": 5,
   "id": "ca80c982",
   "metadata": {},
   "outputs": [
    {
     "name": "stdout",
     "output_type": "stream",
     "text": [
      "Enter the string: Ume$h\n",
      "\n",
      "Original String: \n",
      "Ume$h\n",
      "\n",
      "After Removing Punctuations from given string: \n",
      "Umeh\n"
     ]
    }
   ],
   "source": [
    "Punctuations = '''!()-[]{};:'\"\\,<>./?@#$%^&*_~'''\n",
    "\n",
    "def Remove_Punctuations(string):\n",
    "    \n",
    "    \"\"\"\n",
    "    This function will return the string after removing punctuations from the string\n",
    "    \"\"\"\n",
    "    result = \"\"\n",
    "    for char in string:\n",
    "        if char not in Punctuations:\n",
    "            result += char\n",
    "    return result\n",
    "\n",
    "string = input(\"Enter the string: \")\n",
    "print(\"\\nOriginal String: \\n\" + string)\n",
    "    \n",
    "result = Remove_Punctuations(string)\n",
    "print(\"\\nAfter Removing Punctuations from given string: \\n\" + result)"
   ]
  }
 ],
 "metadata": {
  "kernelspec": {
   "display_name": "Python 3",
   "language": "python",
   "name": "python3"
  },
  "language_info": {
   "codemirror_mode": {
    "name": "ipython",
    "version": 3
   },
   "file_extension": ".py",
   "mimetype": "text/x-python",
   "name": "python",
   "nbconvert_exporter": "python",
   "pygments_lexer": "ipython3",
   "version": "3.8.8"
  }
 },
 "nbformat": 4,
 "nbformat_minor": 5
}
