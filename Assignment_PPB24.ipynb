{
 "cells": [
  {
   "cell_type": "markdown",
   "id": "3b368ebe",
   "metadata": {},
   "source": [
    "## Assignment 24"
   ]
  },
  {
   "cell_type": "markdown",
   "id": "6ce8d53f",
   "metadata": {},
   "source": [
    "**Q.1.** Create a function that takes an integer and returns a list from 1 to the given number, where:\n",
    "    \n",
    "1. If the number can be divided evenly by 4, amplify it by 10 (i.e. return 10 times the\n",
    "number).\n",
    "2. If the number cannot be divided evenly by 4, simply return the number.\n",
    "\n",
    "**Examples**\n",
    "\n",
    "amplify(4) ➞ [1, 2, 3, 40]\\\n",
    "amplify(3) ➞ [1, 2, 3]\\\n",
    "amplify(25) ➞ [1, 2, 3, 40, 5, 6, 7, 80, 9, 10, 11, 120, 13, 14, 15, 160, 17, 18, 19, 200, 21, 22, 23, 240, 25]\n",
    "\n",
    "**Notes**\n",
    "\n",
    "* The given integer will always be equal to or greater than 1.\n",
    "* Include the number (see example above).\n",
    "* To perform this problem with its intended purpose, try doing it with list\n",
    "comprehensions. If that's too difficult, just solve the challenge any way you can."
   ]
  },
  {
   "cell_type": "markdown",
   "id": "24a10333",
   "metadata": {},
   "source": [
    "**Answer :-**"
   ]
  },
  {
   "cell_type": "code",
   "execution_count": 1,
   "id": "7681955b",
   "metadata": {},
   "outputs": [],
   "source": [
    "def amplify(n):\n",
    "    \n",
    "    amp = [i*10 if i % 4 == 0 else i for i in range(1, n+1)]\n",
    "    \n",
    "    return amp"
   ]
  },
  {
   "cell_type": "code",
   "execution_count": 2,
   "id": "06423a9c",
   "metadata": {},
   "outputs": [
    {
     "data": {
      "text/plain": [
       "[1, 2, 3, 40]"
      ]
     },
     "execution_count": 2,
     "metadata": {},
     "output_type": "execute_result"
    }
   ],
   "source": [
    "amplify(4)"
   ]
  },
  {
   "cell_type": "markdown",
   "id": "bb54989e",
   "metadata": {},
   "source": [
    "**Q.2.** Create a function that takes a list of numbers and return the number that&#39;s unique.\n",
    "\n",
    "**Examples**\n",
    "\n",
    "unique([3, 3, 3, 7, 3, 3]) ➞ 7\\\n",
    "unique([0, 0, 0.77, 0, 0]) ➞ 0.77\\\n",
    "unique([0, 1, 1, 1, 1, 1, 1, 1]) ➞ 0\n",
    "\n",
    "**Notes**\n",
    "\n",
    "Test cases will always have exactly one unique number while all others are the same."
   ]
  },
  {
   "cell_type": "markdown",
   "id": "9ad60962",
   "metadata": {},
   "source": [
    "**Answer :-**"
   ]
  },
  {
   "cell_type": "code",
   "execution_count": 3,
   "id": "d5e1a0c3",
   "metadata": {},
   "outputs": [],
   "source": [
    "def unique(lst):\n",
    "    \n",
    "    s = list(set(lst))# give us unique value\n",
    "    for i in s:\n",
    "        if lst.count(i) == 1:\n",
    "            \n",
    "            return i"
   ]
  },
  {
   "cell_type": "code",
   "execution_count": 4,
   "id": "fe0300d4",
   "metadata": {},
   "outputs": [
    {
     "data": {
      "text/plain": [
       "0.77"
      ]
     },
     "execution_count": 4,
     "metadata": {},
     "output_type": "execute_result"
    }
   ],
   "source": [
    "unique([0, 0, 0.77, 0, 0])"
   ]
  },
  {
   "cell_type": "markdown",
   "id": "9b03aadb",
   "metadata": {},
   "source": [
    "**Q.3.** Your task is to create a Circle constructor that creates a circle with a radius provided by an\n",
    "argument. The circles constructed must have two getters getArea() (PIr^2) and\n",
    "getPerimeter() (2PI*r) which give both respective areas and perimeter (circumference).\n",
    "\n",
    "For help with this class, I have provided you with a Rectangle constructor which you can use\n",
    "as a base example.\n",
    "\n",
    "**Examples**\n",
    "\n",
    "circy = Circle(11)\\\n",
    "circy.getArea()\n",
    "\n",
    "#Should return 380.132711084365\n",
    "\n",
    "circy = Circle(4.44)\\\n",
    "circy.getPerimeter()\n",
    "\n",
    "#Should return 27.897342763877365\n",
    "\n",
    "**Notes**\n",
    "\n",
    "Round results up to the nearest integer."
   ]
  },
  {
   "cell_type": "markdown",
   "id": "d3e48c9c",
   "metadata": {},
   "source": [
    "**Answer :-**"
   ]
  },
  {
   "cell_type": "code",
   "execution_count": 5,
   "id": "3a8d7272",
   "metadata": {},
   "outputs": [],
   "source": [
    "class Circle():\n",
    "    def __init__(self, r):\n",
    "        self.radius = r\n",
    "\n",
    "    def getArea(self):\n",
    "        return round(self.radius**2*3.14)\n",
    "    \n",
    "    def getPerimeter(self):\n",
    "        return round(2*self.radius*3.14)"
   ]
  },
  {
   "cell_type": "code",
   "execution_count": 6,
   "id": "487b0f38",
   "metadata": {},
   "outputs": [
    {
     "data": {
      "text/plain": [
       "380"
      ]
     },
     "execution_count": 6,
     "metadata": {},
     "output_type": "execute_result"
    }
   ],
   "source": [
    "circy = Circle(11)\n",
    "circy.getArea()"
   ]
  },
  {
   "cell_type": "code",
   "execution_count": 7,
   "id": "2a71c58e",
   "metadata": {},
   "outputs": [
    {
     "data": {
      "text/plain": [
       "28"
      ]
     },
     "execution_count": 7,
     "metadata": {},
     "output_type": "execute_result"
    }
   ],
   "source": [
    "circy = Circle(4.44)\n",
    "circy.getPerimeter()"
   ]
  },
  {
   "cell_type": "markdown",
   "id": "47a08149",
   "metadata": {},
   "source": [
    "**Q.4.** Create a function that takes a list of strings and return a list, sorted from shortest to longest.\n",
    "\n",
    "**Examples**\n",
    "\n",
    "sort_by_length([\"Google\", \"Apple\", \"Microsoft\"]) ➞ [\"Apple\", \"Google\", \"Microsoft\"]\n",
    "\n",
    "sort_by_length([\"Leonardo\", \"Michelangelo\", \"Raphael\", \"Donatello\"]) ➞ [\"Raphael\", \"Leonardo\", \"Donatello\", \"Michelangelo\"]\n",
    "\n",
    "sort_by_length([\"Turing\", \"Einstein\", \"Jung\"]) ➞ \"Jung\", \"Turing\", \"Einstein\"]\n",
    "\n",
    "**Notes**\n",
    "\n",
    "All test cases contain lists with strings of different lengths, so you won't have to deal with multiple strings of the same length."
   ]
  },
  {
   "cell_type": "markdown",
   "id": "a98f8f2c",
   "metadata": {},
   "source": [
    "**Answer :-**"
   ]
  },
  {
   "cell_type": "code",
   "execution_count": 8,
   "id": "9f63009c",
   "metadata": {},
   "outputs": [],
   "source": [
    "def sort_by_length(lst):\n",
    "    return sorted(lst, key = len)"
   ]
  },
  {
   "cell_type": "code",
   "execution_count": 9,
   "id": "7e07234a",
   "metadata": {},
   "outputs": [
    {
     "data": {
      "text/plain": [
       "['Raphael', 'Leonardo', 'Donatello', 'Michelangelo']"
      ]
     },
     "execution_count": 9,
     "metadata": {},
     "output_type": "execute_result"
    }
   ],
   "source": [
    "sort_by_length(['Leonardo', 'Michelangelo', 'Raphael', 'Donatello'])"
   ]
  },
  {
   "cell_type": "markdown",
   "id": "7077027e",
   "metadata": {},
   "source": [
    "**Q.5.** Create a function that validates whether three given integers form a Pythagorean triplet. The\n",
    "sum of the squares of the two smallest integers must equal the square of the largest number to be validated.\n",
    "\n",
    "**Examples**\n",
    "\n",
    "is_triplet(3, 4, 5) ➞ True\\\n",
    "#3² + 4² = 25\\\n",
    "#5² = 25\n",
    "\n",
    "is_triplet(13, 5, 12) ➞ True\\\n",
    "#5² + 12² = 169\\\n",
    "#13² = 169\n",
    "\n",
    "is_triplet(1, 2, 3) ➞ False\\\n",
    "#1² + 2² = 5\\\n",
    "#3² = 9\n",
    "\n",
    "**Notes**\n",
    "\n",
    "Numbers may not be given in a sorted order."
   ]
  },
  {
   "cell_type": "markdown",
   "id": "2bbba863",
   "metadata": {},
   "source": [
    "**Answer :-**"
   ]
  },
  {
   "cell_type": "code",
   "execution_count": 10,
   "id": "40053ce1",
   "metadata": {},
   "outputs": [],
   "source": [
    "def is_triplet(a, b, c):\n",
    "    lst = []\n",
    "    lst.extend((a, b, c))\n",
    "    lst = sorted(lst)\n",
    "\n",
    "    if lst[0]**2 + lst[1]**2 == lst[2]**2:\n",
    "        print('Triplets')\n",
    "        return True\n",
    "    else:\n",
    "        print(\"not triplet\")\n",
    "        return False"
   ]
  },
  {
   "cell_type": "code",
   "execution_count": 11,
   "id": "288bfb89",
   "metadata": {},
   "outputs": [
    {
     "name": "stdout",
     "output_type": "stream",
     "text": [
      "Triplets\n"
     ]
    },
    {
     "data": {
      "text/plain": [
       "True"
      ]
     },
     "execution_count": 11,
     "metadata": {},
     "output_type": "execute_result"
    }
   ],
   "source": [
    "is_triplet(13, 5, 12)"
   ]
  }
 ],
 "metadata": {
  "kernelspec": {
   "display_name": "Python 3",
   "language": "python",
   "name": "python3"
  },
  "language_info": {
   "codemirror_mode": {
    "name": "ipython",
    "version": 3
   },
   "file_extension": ".py",
   "mimetype": "text/x-python",
   "name": "python",
   "nbconvert_exporter": "python",
   "pygments_lexer": "ipython3",
   "version": "3.8.8"
  }
 },
 "nbformat": 4,
 "nbformat_minor": 5
}
