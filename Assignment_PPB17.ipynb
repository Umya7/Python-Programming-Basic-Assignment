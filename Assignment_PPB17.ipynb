{
 "cells": [
  {
   "cell_type": "markdown",
   "id": "75dfac1d",
   "metadata": {},
   "source": [
    "## Assignment 17"
   ]
  },
  {
   "cell_type": "markdown",
   "id": "c2add242",
   "metadata": {},
   "source": [
    "**Q.1.** Create a function that takes three arguments a, b, c and returns the sum of the\n",
    "numbers that are evenly divided by c from the range a, b inclusive.\n",
    "\n",
    "**Examples**\n",
    "\n",
    "evenly_divisible(1, 10, 20) ➞ 0\\\n",
    "#No number between 1 and 10 can be evenly divided by 20.\n",
    "\n",
    "evenly_divisible(1, 10, 2) ➞ 30\\\n",
    "#2 + 4 + 6 + 8 + 10 = 30\n",
    "\n",
    "evenly_divisible(1, 10, 3) ➞ 18\\\n",
    "#3 + 6 + 9 = 18"
   ]
  },
  {
   "cell_type": "markdown",
   "id": "97fae32f",
   "metadata": {},
   "source": [
    "**Answer :-**"
   ]
  },
  {
   "cell_type": "code",
   "execution_count": 1,
   "id": "1e580925",
   "metadata": {},
   "outputs": [
    {
     "name": "stdout",
     "output_type": "stream",
     "text": [
      "Enter value for a : 1\n",
      "Enter value for b : 10\n",
      "Enter value for c : 2\n",
      "30\n"
     ]
    }
   ],
   "source": [
    "def SumDivisibles(a, b, c):     \n",
    "    sum = 0\n",
    "    for i in range(a, b + 1): \n",
    "        if (i % c == 0):\n",
    "            sum += i \n",
    "    return sum\n",
    "\n",
    "a = int(input('Enter value for a : '))\n",
    "b = int(input('Enter value for b : '))\n",
    "c = int(input('Enter value for c : '))\n",
    "\n",
    "print(SumDivisibles(a, b, c))"
   ]
  },
  {
   "cell_type": "markdown",
   "id": "7f336586",
   "metadata": {},
   "source": [
    "**Q.2.** Create a function that returns True if a given inequality expression is correct and\n",
    "False otherwise.\n",
    "\n",
    "**Examples**\n",
    "\n",
    "correct_signs(\"3 < 7 < 11\") ➞ True\\\n",
    "correct_signs(\"13 > 44 > 33 > 1\") ➞ False\\\n",
    "correct_signs(\"1 < 2 < 6 < 6 < 9 > 3\") ➞ True"
   ]
  },
  {
   "cell_type": "markdown",
   "id": "b985bec4",
   "metadata": {},
   "source": [
    "**Answer :-**"
   ]
  },
  {
   "cell_type": "code",
   "execution_count": 2,
   "id": "9182725c",
   "metadata": {},
   "outputs": [
    {
     "name": "stdout",
     "output_type": "stream",
     "text": [
      "True\n",
      "False\n",
      "True\n"
     ]
    }
   ],
   "source": [
    "def correct_signs ( txt ) : \n",
    "    return eval ( txt )\n",
    "\n",
    "print(correct_signs(\"3 < 7 < 11\"))\n",
    "print(correct_signs(\"13 > 44 > 33 > 1\"))\n",
    "print(correct_signs(\"1 < 2 < 6 < 9 > 3\"))"
   ]
  },
  {
   "cell_type": "markdown",
   "id": "65412208",
   "metadata": {},
   "source": [
    "**Q.3.** Create a function that replaces all the vowels in a string with a specified character.\n",
    "\n",
    "**Examples**\n",
    "\n",
    "replace_vowels(\"the aardvark\", \"#\") ➞ \"h# ##rdv#rk\"\\\n",
    "replace_vowels(\"minnie mouse\", \"?\") ➞ \"m?nn?? m??s?\"\\\n",
    "replace_vowels(\"shakespeare\", \"*\") ➞ \"sh*k*sp**r*\""
   ]
  },
  {
   "cell_type": "markdown",
   "id": "a1e1c189",
   "metadata": {},
   "source": [
    "**Answer :-**"
   ]
  },
  {
   "cell_type": "code",
   "execution_count": 3,
   "id": "e544c46f",
   "metadata": {},
   "outputs": [
    {
     "name": "stdout",
     "output_type": "stream",
     "text": [
      "enter a string : shakespeare\n",
      "enter a vowel replacing string : $\n",
      "\n",
      "Given Sting : shakespeare\n",
      "Given Specified Character : $\n",
      "Afer replacing vowels with the specified character : sh$k$sp$$r$\n"
     ]
    }
   ],
   "source": [
    "def ReplaceVowels(str, s):\n",
    "    vowels = 'AEIOUaeiou'\n",
    "    for ele in vowels:  \n",
    "        str = str.replace(ele, s)  \n",
    "    return str\n",
    "  \n",
    "input_str = input(\"enter a string : \")\n",
    "s = input(\"enter a vowel replacing string : \")\n",
    "\n",
    "print(\"\\nGiven Sting :\", input_str)\n",
    "print(\"Given Specified Character :\", s)\n",
    "print(\"Afer replacing vowels with the specified character :\", ReplaceVowels(input_str, s))"
   ]
  },
  {
   "cell_type": "markdown",
   "id": "eadd9963",
   "metadata": {},
   "source": [
    "**Q.4.** Write a function that calculates the `factorial` of a number `recursively`.\n",
    "\n",
    "**Examples**\n",
    "\n",
    "factorial(5) ➞ 120\\\n",
    "factorial(3) ➞ 6\\\n",
    "factorial(1) ➞ 1\\\n",
    "factorial(0) ➞ 1"
   ]
  },
  {
   "cell_type": "markdown",
   "id": "68738b75",
   "metadata": {},
   "source": [
    "**Answer :-**"
   ]
  },
  {
   "cell_type": "code",
   "execution_count": 4,
   "id": "2b9bfbb6",
   "metadata": {},
   "outputs": [
    {
     "name": "stdout",
     "output_type": "stream",
     "text": [
      "enter a positive number :3\n",
      "Factorial of 3 is 6\n"
     ]
    }
   ],
   "source": [
    "def Factorial(n):     \n",
    "    if n == 0:\n",
    "        return 1    \n",
    "    return n * Factorial(n-1)\n",
    "\n",
    "num = int(input('enter a positive number :'))\n",
    "\n",
    "print(\"Factorial of\", num, \"is\", Factorial(num))"
   ]
  },
  {
   "cell_type": "markdown",
   "id": "591a1167",
   "metadata": {},
   "source": [
    "**Q.5.** Hamming distance is the number of characters that differ between two strings.\n",
    "\n",
    "To illustrate:\n",
    "    \n",
    "String1: \"abcbba\"\n",
    "String2: \"abcbda\"\n",
    "    \n",
    "Hamming Distance: 1 - \"b\" vs. \"d\" is the only difference.\n",
    "    \n",
    "Create a function that computes the ```hamming distance``` between two strings.\n",
    "\n",
    "**Examples**\n",
    "\n",
    "hamming_distance(\"abcde\", \"bcdef\") ➞ 5\\\n",
    "hamming_distance(\"abcde\", \"abcde\") ➞ 0\\\n",
    "hamming_distance(\"strong\", \"strung\") ➞ 1"
   ]
  },
  {
   "cell_type": "markdown",
   "id": "542e941c",
   "metadata": {},
   "source": [
    "**Answer :-**"
   ]
  },
  {
   "cell_type": "code",
   "execution_count": 5,
   "id": "1d8b2e32",
   "metadata": {},
   "outputs": [
    {
     "name": "stdout",
     "output_type": "stream",
     "text": [
      "Enter string 1 : abcde\n",
      "Enter string 2 : bcdef\n",
      "Hamming Distance of abcde and bcdef is :  5\n"
     ]
    }
   ],
   "source": [
    "def HammingDistance(str1, str2):\n",
    "    i = 0\n",
    "    count = 0\n",
    " \n",
    "    while(i < len(str1)):\n",
    "        if(str1[i] != str2[i]):\n",
    "            count += 1\n",
    "        i += 1\n",
    "    return count\n",
    " \n",
    "# Driver code \n",
    "#str1 = \"abcde\"\n",
    "#str2 = \"bcdef\"\n",
    "str1 = str(input(\"Enter string 1 : \"))\n",
    "str2 = str(input(\"Enter string 2 : \"))\n",
    " \n",
    "# function call\n",
    "HammingDistance(str1, str2)\n",
    "\n",
    "#result\n",
    "print(f\"Hamming Distance of {str1} and {str2} is : \", HammingDistance(str1, str2))"
   ]
  }
 ],
 "metadata": {
  "kernelspec": {
   "display_name": "Python 3",
   "language": "python",
   "name": "python3"
  },
  "language_info": {
   "codemirror_mode": {
    "name": "ipython",
    "version": 3
   },
   "file_extension": ".py",
   "mimetype": "text/x-python",
   "name": "python",
   "nbconvert_exporter": "python",
   "pygments_lexer": "ipython3",
   "version": "3.8.8"
  }
 },
 "nbformat": 4,
 "nbformat_minor": 5
}
