{
 "cells": [
  {
   "cell_type": "markdown",
   "id": "64358120",
   "metadata": {},
   "source": [
    "## Assignment 15"
   ]
  },
  {
   "cell_type": "markdown",
   "id": "8f12ea33",
   "metadata": {},
   "source": [
    "**Q.1.** Please write a program using generator to print the numbers which can be divisible by 5 and 7 between 0 and n in comma separated form while n is input by console.\n",
    "\n",
    "Example:  \n",
    "    \n",
    "If the following n is given as input to the program:  \n",
    "100\n",
    "\n",
    "Then, the output of the program should be:  \n",
    "0,35,70"
   ]
  },
  {
   "cell_type": "markdown",
   "id": "36953903",
   "metadata": {},
   "source": [
    "**Answer :-**"
   ]
  },
  {
   "cell_type": "code",
   "execution_count": 1,
   "id": "6b6fd99a",
   "metadata": {},
   "outputs": [
    {
     "name": "stdout",
     "output_type": "stream",
     "text": [
      "Enter the value for N : 100\n",
      "0,35,70\n"
     ]
    }
   ],
   "source": [
    "# divisible by 5 or 7 for a given number\n",
    "def Numbers(N): \n",
    "    \"This function will return the value if number is divisible by 5 or 7 between 0 and n in comma separated\"\n",
    "    i = 0 \n",
    "    while i < N:\n",
    "        j = i\n",
    "        i += 1 \n",
    "        if j % 7 == 0 and j % 5 == 0:\n",
    "            yield j\n",
    "            \n",
    "N = int(input(\"Enter the value for N : \"))\n",
    "num =[]\n",
    "for i in Numbers(N): \n",
    "    num.append(str(i))\n",
    "    \n",
    "print(','.join(num))"
   ]
  },
  {
   "cell_type": "markdown",
   "id": "a8f8a723",
   "metadata": {},
   "source": [
    "**Q.2.** Please write a program using generator to print the even numbers between 0 and n in comma separated form while n is input by console.\n",
    "\n",
    "Example:  \n",
    "    \n",
    "If the following n is given as input to the program:  \n",
    "10\n",
    "\n",
    "Then, the output of the program should be:  \n",
    "0,2,4,6,8,10"
   ]
  },
  {
   "cell_type": "markdown",
   "id": "7b401569",
   "metadata": {},
   "source": [
    "**Answer :-**"
   ]
  },
  {
   "cell_type": "code",
   "execution_count": 2,
   "id": "6f565205",
   "metadata": {},
   "outputs": [
    {
     "name": "stdout",
     "output_type": "stream",
     "text": [
      "Enter the value for N : 10\n",
      "0,2,4,6,8\n"
     ]
    }
   ],
   "source": [
    "# Even Number from the range of 0 to N.\n",
    "def Numbers1(N): \n",
    "    \"This function will return even numbers between 0 and n in comma separated\"\n",
    "    i = 0 \n",
    "    while i < N:\n",
    "        j = i\n",
    "        i += 1 \n",
    "        if j % 2 == 0:\n",
    "            yield j\n",
    "N = int(input(\"Enter the value for N : \"))\n",
    "num =[]\n",
    "for i in Numbers1(N): \n",
    "    num.append(str(i))\n",
    "    \n",
    "print(','.join(num))"
   ]
  },
  {
   "cell_type": "markdown",
   "id": "261ff042",
   "metadata": {},
   "source": [
    "**Q.3.** The Fibonacci Sequence is computed based on the following formula:  \n",
    "    f(n)=0 if n=0  \n",
    "    f(n)=1 if n=1  \n",
    "    f(n)=f(n-1)+f(n-2) if n>1  \n",
    "\n",
    "Please write a program using list comprehension to print the Fibonacci Sequence in comma separated form with a given n input by console.\n",
    "\n",
    "Example:\n",
    "    \n",
    "If the following n is given as input to the program:  \n",
    "7\n",
    "\n",
    "Then, the output of the program should be:  \n",
    "0,1,1,2,3,5,8,13"
   ]
  },
  {
   "cell_type": "markdown",
   "id": "a912ca79",
   "metadata": {},
   "source": [
    "**Answer :-**"
   ]
  },
  {
   "cell_type": "code",
   "execution_count": 3,
   "id": "9dd61126",
   "metadata": {},
   "outputs": [
    {
     "name": "stdout",
     "output_type": "stream",
     "text": [
      "Enter the value for Fibonacci Sequence : 7\n",
      "0,1,1,2,3,5,8,13\n"
     ]
    }
   ],
   "source": [
    "def Fib(n):\n",
    "    \"This function will return the Fibonacci Sequence in comma separated form\"\n",
    "    if n == 0: \n",
    "            return 0    \n",
    "    elif n == 1: \n",
    "            return 1    \n",
    "    else: \n",
    "            return Fib(n-1) + Fib(n-2)\n",
    "        \n",
    "n = int(input(\"Enter the value for Fibonacci Sequence : \"))\n",
    "values = [str(Fib(x)) for x in range(0, n+1)] \n",
    "print(\",\".join(values))"
   ]
  },
  {
   "cell_type": "markdown",
   "id": "f0a1f8d5",
   "metadata": {},
   "source": [
    "**Q.4.** Assuming that we have some email addresses in the \"username@companyname.com\" format, please write program to print the user name of a given email address. Both user names and company names are composed of letters only.\n",
    "\n",
    "Example:\n",
    "\n",
    "If the following email address is given as input to the program:\n",
    "    \n",
    "john@google.com\n",
    "\n",
    "Then, the output of the program should be:\n",
    "\n",
    "john"
   ]
  },
  {
   "cell_type": "markdown",
   "id": "603eb974",
   "metadata": {},
   "source": [
    "**Answer :-**"
   ]
  },
  {
   "cell_type": "code",
   "execution_count": 4,
   "id": "9f0cd8c4",
   "metadata": {},
   "outputs": [
    {
     "name": "stdout",
     "output_type": "stream",
     "text": [
      "Enter the email address : umesh@yahoo.com\n",
      "User name : umesh\n",
      "Company name : yahoo\n"
     ]
    }
   ],
   "source": [
    "#using Regular expression\n",
    "import re\n",
    "\"This function will return the user name & company of a given email address\"\n",
    "EmailAddress = input(\"Enter the email address : \")\n",
    "pat2 = \"(\\w+)@(\\w+)\\.(com)\"\n",
    "r2 = re.match(pat2,EmailAddress)\n",
    "print('User name :',r2.group(1))\n",
    "print('Company name :',r2.group(2))"
   ]
  },
  {
   "cell_type": "markdown",
   "id": "86612417",
   "metadata": {},
   "source": [
    "**Q.5.** Define a class named Shape and its subclass Square. The Square class has an init function which takes a length as argument. Both classes have a area function which can print the area of the shape where Shape's area is 0 by default."
   ]
  },
  {
   "cell_type": "markdown",
   "id": "11e24920",
   "metadata": {},
   "source": [
    "**Answer :-**"
   ]
  },
  {
   "cell_type": "code",
   "execution_count": 5,
   "id": "78e52395",
   "metadata": {},
   "outputs": [
    {
     "name": "stdout",
     "output_type": "stream",
     "text": [
      "49\n"
     ]
    }
   ],
   "source": [
    "class Shape(object):\n",
    "    \"This function will return print the area of the shape where Shape's area is 0 by default.\"\n",
    "    def __init__(self):\n",
    "        pass\n",
    "\n",
    "    def area(self):\n",
    "        return 0\n",
    "\n",
    "class Square(Shape):\n",
    "    def __init__(self, l):\n",
    "        Shape.__init__(self)\n",
    "        self.length = l\n",
    "\n",
    "    def area(self):\n",
    "        return self.length*self.length\n",
    "\n",
    "objSquare = Square(7)\n",
    "print(objSquare.area())"
   ]
  }
 ],
 "metadata": {
  "kernelspec": {
   "display_name": "Python 3",
   "language": "python",
   "name": "python3"
  },
  "language_info": {
   "codemirror_mode": {
    "name": "ipython",
    "version": 3
   },
   "file_extension": ".py",
   "mimetype": "text/x-python",
   "name": "python",
   "nbconvert_exporter": "python",
   "pygments_lexer": "ipython3",
   "version": "3.8.8"
  }
 },
 "nbformat": 4,
 "nbformat_minor": 5
}
