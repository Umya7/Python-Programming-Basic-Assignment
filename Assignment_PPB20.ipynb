{
 "cells": [
  {
   "cell_type": "markdown",
   "id": "d6f29d74",
   "metadata": {},
   "source": [
    "## Assignment 20"
   ]
  },
  {
   "cell_type": "markdown",
   "id": "84871145",
   "metadata": {},
   "source": [
    "**Q.1.** Create a function that takes a list of strings and integers, and filters out the list so that it\n",
    "returns a list of integers only.\n",
    "\n",
    "**Examples**\n",
    "\n",
    "filter_list([1, 2, 3, \"a\", \"b\", 4]) ➞ [1, 2, 3, 4]\\\n",
    "filter_list([\"A\", 0, \"Edabit\", 1729, \"Python\", \"1729\"]) ➞ [0, 1729]\\\n",
    "filter_list([\"Nothing\", \"here\"]) ➞ []"
   ]
  },
  {
   "cell_type": "markdown",
   "id": "116cdf24",
   "metadata": {},
   "source": [
    "**Answer :-**"
   ]
  },
  {
   "cell_type": "code",
   "execution_count": 1,
   "id": "c67fbd69",
   "metadata": {},
   "outputs": [
    {
     "data": {
      "text/plain": [
       "[1, 2, 3, 4]"
      ]
     },
     "execution_count": 1,
     "metadata": {},
     "output_type": "execute_result"
    }
   ],
   "source": [
    "def filter_list(lst):\n",
    "    intLst = []\n",
    "    for i in lst:\n",
    "        if type(i) == int:\n",
    "            intLst.append(i)\n",
    "    return intLst\n",
    "\n",
    "filter_list([1, 2, 3, \"a\", \"b\", 4])"
   ]
  },
  {
   "cell_type": "markdown",
   "id": "8104a7ee",
   "metadata": {},
   "source": [
    "**Q.2.** Given a list of numbers, create a function which returns the list but with each element's\n",
    "index in the list added to itself. This means you add 0 to the number at index 0, add 1 to the\n",
    "number at index 1, etc...\n",
    "\n",
    "**Examples**\n",
    "m\n",
    "add_indexes([0, 0, 0, 0, 0]) ➞ [0, 1, 2, 3, 4]\\\n",
    "add_indexes([1, 2, 3, 4, 5]) ➞ [1, 3, 5, 7, 9]\\\n",
    "add_indexes([5, 4, 3, 2, 1]) ➞ [5, 5, 5, 5, 5]"
   ]
  },
  {
   "cell_type": "markdown",
   "id": "cf0e8634",
   "metadata": {},
   "source": [
    "**Answer :-**"
   ]
  },
  {
   "cell_type": "code",
   "execution_count": 2,
   "id": "b822a0ba",
   "metadata": {},
   "outputs": [
    {
     "data": {
      "text/plain": [
       "[1, 3, 5, 7, 9]"
      ]
     },
     "execution_count": 2,
     "metadata": {},
     "output_type": "execute_result"
    }
   ],
   "source": [
    "def AddIndexes(lst):\n",
    "    ind = 0\n",
    "    index = []\n",
    "    for i in lst:\n",
    "        index.append(lst.index(i,ind) + i)\n",
    "        ind+=1\n",
    "    return index\n",
    "\n",
    "AddIndexes([1, 2, 3, 4, 5])"
   ]
  },
  {
   "attachments": {
    "Cone-2.jpg": {
     "image/jpeg": "[encoded data removed]"
    }
   },
   "cell_type": "markdown",
   "id": "89c48edc",
   "metadata": {},
   "source": [
    "**Q.3.** Create a function that takes the height and radius of a cone as arguments and returns the\n",
    "volume of the cone rounded to the nearest hundredth. See the resources tab for the formula.\n",
    "\n",
    "![Cone-2.jpg](attachment:Cone-2.jpg)\n",
    "\n",
    "**Examples**\n",
    "\n",
    "cone_volume(3, 2) ➞ 12.57\\\n",
    "cone_volume(15, 6) ➞ 565.49\\\n",
    "cone_volume(18, 0) ➞ 0"
   ]
  },
  {
   "cell_type": "markdown",
   "id": "41f1cdf0",
   "metadata": {},
   "source": [
    "**Answer :-**"
   ]
  },
  {
   "cell_type": "code",
   "execution_count": 3,
   "id": "7d30c60c",
   "metadata": {},
   "outputs": [
    {
     "name": "stdout",
     "output_type": "stream",
     "text": [
      "Enter Height of Cone : 3\n",
      "Enter Radius of Cone : 2\n",
      "Volume Of Cone is :  12.57\n"
     ]
    }
   ],
   "source": [
    "import math\n",
    "pi = math.pi\n",
    " \n",
    "# Function to calculate Volume of Cone\n",
    "def ConeVolume(h, r):\n",
    "    \n",
    "    Volume_of_Cone = ((1 / 3) * pi * r * r * h)\n",
    "    \n",
    "    return round(Volume_of_Cone, 2)\n",
    " \n",
    "# Driver Code\n",
    "height = float(input(\"Enter Height of Cone : \"))\n",
    "radius = float(input(\"Enter Radius of Cone : \"))\n",
    "\n",
    "C_Volume = ConeVolume(height, radius)\n",
    "\n",
    "print(\"Volume Of Cone is : \", C_Volume)"
   ]
  },
  {
   "cell_type": "markdown",
   "id": "05bdb5c8",
   "metadata": {},
   "source": [
    "**Q.4.** This Triangular Number Sequence is generated from a pattern of dots that form a triangle.\n",
    "The first 5 numbers of the sequence, or dots, are:\n",
    "    \n",
    "1, 3, 6, 10, 15\n",
    "\n",
    "This means that the first triangle has just one dot, the second one has three dots, the third one\n",
    "has 6 dots and so on.\n",
    "\n",
    "Write a function that gives the number of dots with its corresponding triangle number of the\n",
    "sequence.\n",
    "\n",
    "**Examples**\n",
    "\n",
    "triangle(1) ➞ 1\\\n",
    "triangle(6) ➞ 21\\\n",
    "triangle(215) ➞ 23220"
   ]
  },
  {
   "cell_type": "markdown",
   "id": "9128bbd8",
   "metadata": {},
   "source": [
    "**Answer :-**\n",
    "\n",
    "A Rule\n",
    "We can make a \"Rule\" so we can calculate any triangular number.\n",
    "\n",
    "First, rearrange the dots like this:\n",
    "\n",
    "triangular numbers 1 to 5\n",
    "\n",
    "Then double the number of dots, and form them into a rectangle:\n",
    "\n",
    "triangular numbers when doubled become n by n+1 rectangles\n",
    "\n",
    "Now it is easy to work out how many dots: just multiply n by n+1\n",
    "\n",
    "Dots in rectangle = n(n+1)\n",
    "\n",
    "But remember we doubled the number of dots, so\n",
    "\n",
    "Dots in triangle = n(n+1)/2\n",
    "\n",
    "We can use xn to mean \"dots in triangle n\", so we get the rule:\n",
    "\n",
    "Rule: xn = n(n+1)/2"
   ]
  },
  {
   "cell_type": "code",
   "execution_count": 4,
   "id": "a79b36d7",
   "metadata": {},
   "outputs": [
    {
     "name": "stdout",
     "output_type": "stream",
     "text": [
      "Enter the trinalge number : 6\n",
      "The 6th triangle has 21 dots \n"
     ]
    }
   ],
   "source": [
    "def triangle(n):\n",
    "    T = n*(n+1)*0.5\n",
    "    return T\n",
    "\n",
    "n = int(input('Enter the trinalge number : '))\n",
    "\n",
    "print(\"The {}th triangle has {} dots \".format(n,int(triangle(n))))"
   ]
  },
  {
   "cell_type": "markdown",
   "id": "41d4f532",
   "metadata": {},
   "source": [
    "**Q.5.** Create a function that takes a list of numbers between 1 and 10 (excluding one number) and\n",
    "returns the missing number.\n",
    "\n",
    "**Examples**\n",
    "\n",
    "missing_num([1, 2, 3, 4, 6, 7, 8, 9, 10]) ➞ 5\\\n",
    "missing_num([7, 2, 3, 6, 5, 9, 1, 4, 8]) ➞ 10\\\n",
    "missing_num([10, 5, 1, 2, 4, 6, 8, 3, 9]) ➞ 7"
   ]
  },
  {
   "cell_type": "markdown",
   "id": "5aea4e2b",
   "metadata": {},
   "source": [
    "**Answer :-**"
   ]
  },
  {
   "cell_type": "code",
   "execution_count": 5,
   "id": "bb0203c8",
   "metadata": {},
   "outputs": [
    {
     "name": "stdout",
     "output_type": "stream",
     "text": [
      "5\n"
     ]
    }
   ],
   "source": [
    "def MissingNum(lst):\n",
    "    \n",
    "    total = sum([x for x in range(11)])\n",
    "    sum_Of_list = sum(lst)\n",
    "    \n",
    "    return total - sum_Of_list\n",
    "\n",
    "print(MissingNum([1, 2, 3, 4, 6, 7, 8, 9, 10]))"
   ]
  }
 ],
 "metadata": {
  "kernelspec": {
   "display_name": "Python 3",
   "language": "python",
   "name": "python3"
  },
  "language_info": {
   "codemirror_mode": {
    "name": "ipython",
    "version": 3
   },
   "file_extension": ".py",
   "mimetype": "text/x-python",
   "name": "python",
   "nbconvert_exporter": "python",
   "pygments_lexer": "ipython3",
   "version": "3.8.8"
  }
 },
 "nbformat": 4,
 "nbformat_minor": 5
}
