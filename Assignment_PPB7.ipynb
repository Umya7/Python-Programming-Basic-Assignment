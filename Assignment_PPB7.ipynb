{
 "cells": [
  {
   "cell_type": "markdown",
   "id": "b2c76dc6",
   "metadata": {},
   "source": [
    "## Assignment 7"
   ]
  },
  {
   "cell_type": "markdown",
   "id": "4e965ad3",
   "metadata": {},
   "source": [
    "**Q.1.** Write a Python Program to find sum of array?"
   ]
  },
  {
   "cell_type": "markdown",
   "id": "7cc6b2b0",
   "metadata": {},
   "source": [
    "**Answer :-**"
   ]
  },
  {
   "cell_type": "code",
   "execution_count": 1,
   "id": "28d2c513",
   "metadata": {},
   "outputs": [
    {
     "name": "stdout",
     "output_type": "stream",
     "text": [
      "Enter the size of array : 3\n",
      "Enter 1 element: 4\n",
      "Enter 2 element: 8\n",
      "Enter 3 element: 6\n",
      "\n",
      "Sum of all [4, 8, 6] elements is : 18\n"
     ]
    }
   ],
   "source": [
    "def Sum_of_Array(array):\n",
    "    \n",
    "    \"This function will return the sum of all elements of an integer array\"\n",
    "    result = 0\n",
    "    for i in array:\n",
    "        result += i\n",
    "    return result\n",
    "\n",
    "array = []\n",
    "size = int(input(\"Enter the size of array : \"))\n",
    "    \n",
    "if size <= 0:\n",
    "    print(\"\\nPlease enter a positive integer\")\n",
    "else:\n",
    "    for i in range(size):\n",
    "        array.append(int(input(f\"Enter {i+1} element: \")))\n",
    "\n",
    "    print(f\"\\nSum of all {array} elements is : {Sum_of_Array(array)}\")"
   ]
  },
  {
   "cell_type": "markdown",
   "id": "b09d733c",
   "metadata": {},
   "source": [
    "**Q.2.** Write a Python Program to find largest element in an array?"
   ]
  },
  {
   "cell_type": "markdown",
   "id": "0b5fff0a",
   "metadata": {},
   "source": [
    "**Answer :-**"
   ]
  },
  {
   "cell_type": "code",
   "execution_count": 2,
   "id": "62e2ded5",
   "metadata": {},
   "outputs": [
    {
     "name": "stdout",
     "output_type": "stream",
     "text": [
      "Enter the size of array: 4\n",
      "Enter 1 element: 2\n",
      "Enter 2 element: 6\n",
      "Enter 3 element: 4\n",
      "Enter 4 element: 8\n",
      "\n",
      "Largest elements in [2, 6, 4, 8] is : 8\n"
     ]
    }
   ],
   "source": [
    "def Largest_Value_in_Array(array):\n",
    "    \n",
    "    \"\"\"This function will return the largest element in an integer array\"\"\"\n",
    "    largest = array[0]\n",
    "    for i in array:\n",
    "        if i > largest:\n",
    "            largest = i\n",
    "    return largest\n",
    "\n",
    "array = []\n",
    "size = int(input(\"Enter the size of array: \"))\n",
    "    \n",
    "if size<=0:\n",
    "    print(\"\\nPlease enter a positive integer\")\n",
    "else:\n",
    "    for i in range(size):\n",
    "        array.append(int(input(f\"Enter {i+1} element: \")))\n",
    "\n",
    "    print(f\"\\nLargest elements in {array} is : {Largest_Value_in_Array(array)}\")"
   ]
  },
  {
   "cell_type": "markdown",
   "id": "9ea885a1",
   "metadata": {},
   "source": [
    "**Q.3.** Write a Python Program for array rotation?"
   ]
  },
  {
   "cell_type": "markdown",
   "id": "70dfbd8b",
   "metadata": {},
   "source": [
    "**Answer :-**"
   ]
  },
  {
   "cell_type": "code",
   "execution_count": 3,
   "id": "ff89a25f",
   "metadata": {},
   "outputs": [
    {
     "name": "stdout",
     "output_type": "stream",
     "text": [
      "Enter the size of array: 4\n",
      "Enter 1 element: 3\n",
      "Enter 2 element: 5\n",
      "Enter 3 element: 7\n",
      "Enter 4 element: 9\n",
      "\n",
      "How many elements you want to rotate from the array: 2\n",
      "\n",
      "Array Before Rotation\n",
      "\n",
      "[3, 5, 7, 9]\n",
      "\n",
      "Array After Rotation\n",
      "\n",
      "[7, 9, 3, 5]\n"
     ]
    }
   ],
   "source": [
    "def Rotate_Array(array, size, rotate_digit):\n",
    "    \n",
    "    \"\"\"This function will return the rotated array by n elements\"\"\"\n",
    "    temp = []\n",
    "    for i in range(rotate_digit):\n",
    "        temp.append(array[i])\n",
    "    j = 0\n",
    "    for i in range(rotate_digit, size):\n",
    "        array[j] = array[i] \n",
    "        j = j+1\n",
    "    array[:] = array[:j] + temp\n",
    "    return array\n",
    "\n",
    "array = []\n",
    "size = int(input(\"Enter the size of array: \"))\n",
    "    \n",
    "if size <= 0:\n",
    "    print(\"\\nPlease enter a positive integer\")\n",
    "else:\n",
    "    for i in range(size):\n",
    "        array.append(int(input(f\"Enter {i+1} element: \")))\n",
    "\n",
    "    rotate_digit = int(input(\"\\nHow many elements you want to rotate from the array: \"))\n",
    "    if rotate_digit <= 0 or rotate_digit > size:\n",
    "        print(f\"\\nPlease Enter number in range (1-{size})\")\n",
    "    else:\n",
    "        print(\"\\nArray Before Rotation\\n\")\n",
    "        print(array)\n",
    "        print(\"\\nArray After Rotation\\n\")\n",
    "        print(Rotate_Array(array, size, rotate_digit))"
   ]
  },
  {
   "cell_type": "markdown",
   "id": "16d3642f",
   "metadata": {},
   "source": [
    "**Q.4.** Write a Python Program to Split the array and add the first part to the end?"
   ]
  },
  {
   "cell_type": "markdown",
   "id": "f621a139",
   "metadata": {},
   "source": [
    "**Answer :-**"
   ]
  },
  {
   "cell_type": "code",
   "execution_count": 4,
   "id": "429a2832",
   "metadata": {},
   "outputs": [
    {
     "name": "stdout",
     "output_type": "stream",
     "text": [
      "Enter the size of array: 5\n",
      "Enter 1 element: 2\n",
      "Enter 2 element: 5\n",
      "Enter 3 element: 9\n",
      "Enter 4 element: 7\n",
      "Enter 5 element: 6\n",
      "\n",
      "From which index you want to split the array: 2\n",
      "\n",
      "Original Array\n",
      "\n",
      "[2, 5, 9, 7, 6]\n",
      "\n",
      "Array after adding first splitted part to last\n",
      "\n",
      "[9, 7, 6, 2, 5]\n"
     ]
    }
   ],
   "source": [
    "def Split_Array(arr, size, position):\n",
    "    \n",
    "    \"\"\"This function will split the array from a given index and append the first part to the end of the array\"\"\"\n",
    "    temp = []\n",
    "    for i in range(position):\n",
    "        temp.append(array[i])\n",
    "    j = 0\n",
    "    for i in range(position,size):\n",
    "        array[j] = array[i] \n",
    "        j = j+1\n",
    "        array[:] = array[:j] + temp\n",
    "        return array\n",
    "\n",
    "array = []\n",
    "size = int(input(\"Enter the size of array: \"))\n",
    "    \n",
    "if size <= 0:\n",
    "    print(\"\\nPlease enter a positive integer\")\n",
    "else:\n",
    "    for i in range(size):\n",
    "        array.append(int(input(f\"Enter {i+1} element: \")))\n",
    "\n",
    "    position = int(input(\"\\nFrom which index you want to split the array: \"))\n",
    "    if position <= 0 or position > size:\n",
    "        print(f\"\\nPlease Enter number in range (1-{size})\")\n",
    "    else:\n",
    "        print(\"\\nOriginal Array\\n\")\n",
    "        print(array)\n",
    "        print(\"\\nArray after adding first splitted part to last\\n\")\n",
    "        print(Rotate_Array(array, size, position))"
   ]
  },
  {
   "cell_type": "markdown",
   "id": "7ff24df4",
   "metadata": {},
   "source": [
    "**Q.5.** Write a Python Program to check if given array is Monotonic?"
   ]
  },
  {
   "cell_type": "markdown",
   "id": "1c7ed7ea",
   "metadata": {},
   "source": [
    "**Answer :-**"
   ]
  },
  {
   "cell_type": "code",
   "execution_count": 5,
   "id": "21bd4e72",
   "metadata": {},
   "outputs": [
    {
     "name": "stdout",
     "output_type": "stream",
     "text": [
      "Enter the size of array : 6\n",
      "Enter 1 element: 2\n",
      "Enter 2 element: 6\n",
      "Enter 3 element: 4\n",
      "Enter 4 element: 8\n",
      "Enter 5 element: 10\n",
      "Enter 6 element: 14\n",
      "\n",
      "Array [2, 6, 4, 8, 10, 14] is not monotonic\n"
     ]
    }
   ],
   "source": [
    "def Is_Monotonic(arr):\n",
    "    \n",
    "    \"\"\"This function will check whether the given array is monotonic or not\"\"\"\n",
    "    return (all(array[i] <= array[i+1] for i in range(len(array)-1)) or \n",
    "            all(array[i] >= array[i+1] for i in range(len(array)-1)))\n",
    "\n",
    "array = []\n",
    "size = int(input(\"Enter the size of array : \"))\n",
    "    \n",
    "if size <= 0:\n",
    "    print(\"\\nPlease enter a positive integer.\")\n",
    "else:\n",
    "    for i in range(size):\n",
    "        array.append(int(input(f\"Enter {i+1} element: \")))\n",
    "\n",
    "    result = Is_Monotonic(array)\n",
    "    if result:\n",
    "        print(f\"\\nArray {array} is monotonic\")\n",
    "    else:\n",
    "        print(f\"\\nArray {array} is not monotonic\")"
   ]
  }
 ],
 "metadata": {
  "kernelspec": {
   "display_name": "Python 3",
   "language": "python",
   "name": "python3"
  },
  "language_info": {
   "codemirror_mode": {
    "name": "ipython",
    "version": 3
   },
   "file_extension": ".py",
   "mimetype": "text/x-python",
   "name": "python",
   "nbconvert_exporter": "python",
   "pygments_lexer": "ipython3",
   "version": "3.8.8"
  }
 },
 "nbformat": 4,
 "nbformat_minor": 5
}
